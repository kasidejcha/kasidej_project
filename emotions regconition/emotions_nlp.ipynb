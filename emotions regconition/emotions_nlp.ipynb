{
 "cells": [
  {
   "cell_type": "code",
   "execution_count": null,
   "metadata": {
    "colab": {
     "base_uri": "https://localhost:8080/"
    },
    "id": "QC6az-pfmYEk",
    "outputId": "98b13c40-6fbd-4818-de76-41466eb4f06e"
   },
   "outputs": [
    {
     "name": "stdout",
     "output_type": "stream",
     "text": [
      "Drive already mounted at /content/drive; to attempt to forcibly remount, call drive.mount(\"/content/drive\", force_remount=True).\n"
     ]
    }
   ],
   "source": [
    "from google.colab import drive\n",
    "drive.mount('/content/drive')"
   ]
  },
  {
   "cell_type": "code",
   "execution_count": null,
   "metadata": {
    "colab": {
     "base_uri": "https://localhost:8080/",
     "height": 35
    },
    "id": "verIEd7anNoL",
    "outputId": "bbca99a3-be9d-424d-d831-0f4bacb495b6"
   },
   "outputs": [
    {
     "data": {
      "application/vnd.google.colaboratory.intrinsic+json": {
       "type": "string"
      },
      "text/plain": [
       "'2.8.0'"
      ]
     },
     "execution_count": 2,
     "metadata": {},
     "output_type": "execute_result"
    }
   ],
   "source": [
    "import tensorflow as tf\n",
    "tf.__version__"
   ]
  },
  {
   "cell_type": "code",
   "execution_count": null,
   "metadata": {
    "colab": {
     "base_uri": "https://localhost:8080/"
    },
    "id": "6r4J777TgOeN",
    "outputId": "9633d96f-2ead-4ff9-fed6-a69a625fe81c"
   },
   "outputs": [
    {
     "name": "stdout",
     "output_type": "stream",
     "text": [
      "--2022-03-01 08:04:56--  https://raw.githubusercontent.com/mrdbourke/tensorflow-deep-learning/main/extras/helper_functions.py\n",
      "Resolving raw.githubusercontent.com (raw.githubusercontent.com)... 185.199.108.133, 185.199.109.133, 185.199.110.133, ...\n",
      "Connecting to raw.githubusercontent.com (raw.githubusercontent.com)|185.199.108.133|:443... connected.\n",
      "HTTP request sent, awaiting response... 200 OK\n",
      "Length: 10246 (10K) [text/plain]\n",
      "Saving to: ‘helper_functions.py’\n",
      "\n",
      "helper_functions.py 100%[===================>]  10.01K  --.-KB/s    in 0s      \n",
      "\n",
      "2022-03-01 08:04:56 (39.1 MB/s) - ‘helper_functions.py’ saved [10246/10246]\n",
      "\n"
     ]
    }
   ],
   "source": [
    "!wget https://raw.githubusercontent.com/mrdbourke/tensorflow-deep-learning/main/extras/helper_functions.py"
   ]
  },
  {
   "cell_type": "markdown",
   "metadata": {
    "id": "_YrUFPlirijn"
   },
   "source": [
    "# Load & Preprocess Data\n",
    "\n",
    "Data:\n",
    "https://www.kaggle.com/praveengovi/emotions-dataset-for-nlp?select=train.txt"
   ]
  },
  {
   "cell_type": "code",
   "execution_count": null,
   "metadata": {
    "id": "24gZaw_Cm4MV"
   },
   "outputs": [],
   "source": [
    "def get_lines(filename):\n",
    "  \"\"\"\n",
    "  Reads filename and returns the lines of text as a list.\n",
    "\n",
    "  Args:\n",
    "    filename: a string containing the target filepath.\n",
    "\n",
    "  Returns:\n",
    "    A list of strings with on string per line from the target filename\n",
    "  \"\"\"\n",
    "  with open(filename,'r') as f:\n",
    "    return f.readlines()"
   ]
  },
  {
   "cell_type": "code",
   "execution_count": null,
   "metadata": {
    "colab": {
     "base_uri": "https://localhost:8080/"
    },
    "id": "f-Zw3iltmoLz",
    "outputId": "ec9dd4ad-3781-4b87-b636-4d9120342e46"
   },
   "outputs": [
    {
     "data": {
      "text/plain": [
       "['i didnt feel humiliated;sadness\\n',\n",
       " 'i can go from feeling so hopeless to so damned hopeful just from being around someone who cares and is awake;sadness\\n',\n",
       " 'im grabbing a minute to post i feel greedy wrong;anger\\n',\n",
       " 'i am ever feeling nostalgic about the fireplace i will know that it is still on the property;love\\n',\n",
       " 'i am feeling grouchy;anger\\n',\n",
       " 'ive been feeling a little burdened lately wasnt sure why that was;sadness\\n',\n",
       " 'ive been taking or milligrams or times recommended amount and ive fallen asleep a lot faster but i also feel like so funny;surprise\\n',\n",
       " 'i feel as confused about life as a teenager or as jaded as a year old man;fear\\n',\n",
       " 'i have been with petronas for years i feel that petronas has performed well and made a huge profit;joy\\n',\n",
       " 'i feel romantic too;love\\n']"
      ]
     },
     "execution_count": 5,
     "metadata": {},
     "output_type": "execute_result"
    }
   ],
   "source": [
    "file_name = '/content/drive/MyDrive/Dataset/emotions_dataset_for_nlp/train.txt'\n",
    "input_lines = get_lines(file_name)\n",
    "input_lines[:10]"
   ]
  },
  {
   "cell_type": "code",
   "execution_count": null,
   "metadata": {
    "id": "U5UlaPpum7kk"
   },
   "outputs": [],
   "source": [
    "import pandas as pd\n",
    "def preprocess_text(file_name):\n",
    "  input_lines = get_lines(file_name)\n",
    "  samples = []\n",
    "  for line in input_lines:\n",
    "    line_data = {}\n",
    "    target_text_split = line.split(\";\")\n",
    "    line_data['text'] = target_text_split[0]\n",
    "    line_data['target'] = target_text_split[1].lower().strip()\n",
    "    samples.append(line_data)\n",
    "  return pd.DataFrame(samples)"
   ]
  },
  {
   "cell_type": "code",
   "execution_count": null,
   "metadata": {
    "colab": {
     "base_uri": "https://localhost:8080/",
     "height": 206
    },
    "id": "bKzevHeYoaA9",
    "outputId": "1348e161-ddc6-4a1c-b309-e46f8c9e38fc"
   },
   "outputs": [
    {
     "data": {
      "text/html": [
       "\n",
       "  <div id=\"df-2fb84e1c-c870-40d1-bb6d-d172d4a3a05c\">\n",
       "    <div class=\"colab-df-container\">\n",
       "      <div>\n",
       "<style scoped>\n",
       "    .dataframe tbody tr th:only-of-type {\n",
       "        vertical-align: middle;\n",
       "    }\n",
       "\n",
       "    .dataframe tbody tr th {\n",
       "        vertical-align: top;\n",
       "    }\n",
       "\n",
       "    .dataframe thead th {\n",
       "        text-align: right;\n",
       "    }\n",
       "</style>\n",
       "<table border=\"1\" class=\"dataframe\">\n",
       "  <thead>\n",
       "    <tr style=\"text-align: right;\">\n",
       "      <th></th>\n",
       "      <th>text</th>\n",
       "      <th>target</th>\n",
       "    </tr>\n",
       "  </thead>\n",
       "  <tbody>\n",
       "    <tr>\n",
       "      <th>0</th>\n",
       "      <td>i didnt feel humiliated</td>\n",
       "      <td>sadness</td>\n",
       "    </tr>\n",
       "    <tr>\n",
       "      <th>1</th>\n",
       "      <td>i can go from feeling so hopeless to so damned...</td>\n",
       "      <td>sadness</td>\n",
       "    </tr>\n",
       "    <tr>\n",
       "      <th>2</th>\n",
       "      <td>im grabbing a minute to post i feel greedy wrong</td>\n",
       "      <td>anger</td>\n",
       "    </tr>\n",
       "    <tr>\n",
       "      <th>3</th>\n",
       "      <td>i am ever feeling nostalgic about the fireplac...</td>\n",
       "      <td>love</td>\n",
       "    </tr>\n",
       "    <tr>\n",
       "      <th>4</th>\n",
       "      <td>i am feeling grouchy</td>\n",
       "      <td>anger</td>\n",
       "    </tr>\n",
       "  </tbody>\n",
       "</table>\n",
       "</div>\n",
       "      <button class=\"colab-df-convert\" onclick=\"convertToInteractive('df-2fb84e1c-c870-40d1-bb6d-d172d4a3a05c')\"\n",
       "              title=\"Convert this dataframe to an interactive table.\"\n",
       "              style=\"display:none;\">\n",
       "        \n",
       "  <svg xmlns=\"http://www.w3.org/2000/svg\" height=\"24px\"viewBox=\"0 0 24 24\"\n",
       "       width=\"24px\">\n",
       "    <path d=\"M0 0h24v24H0V0z\" fill=\"none\"/>\n",
       "    <path d=\"M18.56 5.44l.94 2.06.94-2.06 2.06-.94-2.06-.94-.94-2.06-.94 2.06-2.06.94zm-11 1L8.5 8.5l.94-2.06 2.06-.94-2.06-.94L8.5 2.5l-.94 2.06-2.06.94zm10 10l.94 2.06.94-2.06 2.06-.94-2.06-.94-.94-2.06-.94 2.06-2.06.94z\"/><path d=\"M17.41 7.96l-1.37-1.37c-.4-.4-.92-.59-1.43-.59-.52 0-1.04.2-1.43.59L10.3 9.45l-7.72 7.72c-.78.78-.78 2.05 0 2.83L4 21.41c.39.39.9.59 1.41.59.51 0 1.02-.2 1.41-.59l7.78-7.78 2.81-2.81c.8-.78.8-2.07 0-2.86zM5.41 20L4 18.59l7.72-7.72 1.47 1.35L5.41 20z\"/>\n",
       "  </svg>\n",
       "      </button>\n",
       "      \n",
       "  <style>\n",
       "    .colab-df-container {\n",
       "      display:flex;\n",
       "      flex-wrap:wrap;\n",
       "      gap: 12px;\n",
       "    }\n",
       "\n",
       "    .colab-df-convert {\n",
       "      background-color: #E8F0FE;\n",
       "      border: none;\n",
       "      border-radius: 50%;\n",
       "      cursor: pointer;\n",
       "      display: none;\n",
       "      fill: #1967D2;\n",
       "      height: 32px;\n",
       "      padding: 0 0 0 0;\n",
       "      width: 32px;\n",
       "    }\n",
       "\n",
       "    .colab-df-convert:hover {\n",
       "      background-color: #E2EBFA;\n",
       "      box-shadow: 0px 1px 2px rgba(60, 64, 67, 0.3), 0px 1px 3px 1px rgba(60, 64, 67, 0.15);\n",
       "      fill: #174EA6;\n",
       "    }\n",
       "\n",
       "    [theme=dark] .colab-df-convert {\n",
       "      background-color: #3B4455;\n",
       "      fill: #D2E3FC;\n",
       "    }\n",
       "\n",
       "    [theme=dark] .colab-df-convert:hover {\n",
       "      background-color: #434B5C;\n",
       "      box-shadow: 0px 1px 3px 1px rgba(0, 0, 0, 0.15);\n",
       "      filter: drop-shadow(0px 1px 2px rgba(0, 0, 0, 0.3));\n",
       "      fill: #FFFFFF;\n",
       "    }\n",
       "  </style>\n",
       "\n",
       "      <script>\n",
       "        const buttonEl =\n",
       "          document.querySelector('#df-2fb84e1c-c870-40d1-bb6d-d172d4a3a05c button.colab-df-convert');\n",
       "        buttonEl.style.display =\n",
       "          google.colab.kernel.accessAllowed ? 'block' : 'none';\n",
       "\n",
       "        async function convertToInteractive(key) {\n",
       "          const element = document.querySelector('#df-2fb84e1c-c870-40d1-bb6d-d172d4a3a05c');\n",
       "          const dataTable =\n",
       "            await google.colab.kernel.invokeFunction('convertToInteractive',\n",
       "                                                     [key], {});\n",
       "          if (!dataTable) return;\n",
       "\n",
       "          const docLinkHtml = 'Like what you see? Visit the ' +\n",
       "            '<a target=\"_blank\" href=https://colab.research.google.com/notebooks/data_table.ipynb>data table notebook</a>'\n",
       "            + ' to learn more about interactive tables.';\n",
       "          element.innerHTML = '';\n",
       "          dataTable['output_type'] = 'display_data';\n",
       "          await google.colab.output.renderOutput(dataTable, element);\n",
       "          const docLink = document.createElement('div');\n",
       "          docLink.innerHTML = docLinkHtml;\n",
       "          element.appendChild(docLink);\n",
       "        }\n",
       "      </script>\n",
       "    </div>\n",
       "  </div>\n",
       "  "
      ],
      "text/plain": [
       "                                                text   target\n",
       "0                            i didnt feel humiliated  sadness\n",
       "1  i can go from feeling so hopeless to so damned...  sadness\n",
       "2   im grabbing a minute to post i feel greedy wrong    anger\n",
       "3  i am ever feeling nostalgic about the fireplac...     love\n",
       "4                               i am feeling grouchy    anger"
      ]
     },
     "execution_count": 7,
     "metadata": {},
     "output_type": "execute_result"
    }
   ],
   "source": [
    "train_df = preprocess_text('/content/drive/MyDrive/Dataset/emotions_dataset_for_nlp/train.txt')\n",
    "test_df = preprocess_text('/content/drive/MyDrive/Dataset/emotions_dataset_for_nlp/test.txt')\n",
    "val_df = preprocess_text('/content/drive/MyDrive/Dataset/emotions_dataset_for_nlp/val.txt')\n",
    "train_df.head()"
   ]
  },
  {
   "cell_type": "code",
   "execution_count": null,
   "metadata": {
    "colab": {
     "base_uri": "https://localhost:8080/"
    },
    "id": "lQ_KhhalrMi1",
    "outputId": "88ff7450-bacc-4ada-ceba-4dc0ed4a754c"
   },
   "outputs": [
    {
     "data": {
      "text/plain": [
       "joy         5362\n",
       "sadness     4666\n",
       "anger       2159\n",
       "fear        1937\n",
       "love        1304\n",
       "surprise     572\n",
       "Name: target, dtype: int64"
      ]
     },
     "execution_count": 8,
     "metadata": {},
     "output_type": "execute_result"
    }
   ],
   "source": [
    "train_df.target.value_counts()"
   ]
  },
  {
   "cell_type": "code",
   "execution_count": null,
   "metadata": {
    "colab": {
     "base_uri": "https://localhost:8080/"
    },
    "id": "ljEiA6jCrYmU",
    "outputId": "d7ba36fd-c3d9-46ad-b874-d281507b573c"
   },
   "outputs": [
    {
     "data": {
      "text/plain": [
       "(16000, 2000, 2000)"
      ]
     },
     "execution_count": 9,
     "metadata": {},
     "output_type": "execute_result"
    }
   ],
   "source": [
    "# Convert abstract text line into list\n",
    "train_sentences = train_df['text'].tolist()\n",
    "val_sentences = val_df['text'].tolist()\n",
    "test_sentences = test_df['text'].tolist()\n",
    "len(train_sentences), len(val_sentences), len(test_sentences)"
   ]
  },
  {
   "cell_type": "markdown",
   "metadata": {
    "id": "hdYxTYvProdE"
   },
   "source": [
    "## Make numeric labels (ML models require numeric labels) - one hot encode labels"
   ]
  },
  {
   "cell_type": "markdown",
   "metadata": {
    "id": "4-sFCOunu8oi"
   },
   "source": [
    "## sklearn one-hot"
   ]
  },
  {
   "cell_type": "code",
   "execution_count": null,
   "metadata": {
    "colab": {
     "base_uri": "https://localhost:8080/"
    },
    "id": "Zd52Z1tgwaR6",
    "outputId": "2fe0ae0c-a58f-4562-b52a-1b9222114e16"
   },
   "outputs": [
    {
     "data": {
      "text/plain": [
       "array([[0., 0., 0., 0., 1., 0.],\n",
       "       [0., 0., 0., 0., 1., 0.],\n",
       "       [1., 0., 0., 0., 0., 0.],\n",
       "       [0., 0., 0., 1., 0., 0.],\n",
       "       [1., 0., 0., 0., 0., 0.]])"
      ]
     },
     "execution_count": 10,
     "metadata": {},
     "output_type": "execute_result"
    }
   ],
   "source": [
    "from sklearn.preprocessing import OneHotEncoder\n",
    "one_hot_en = OneHotEncoder(sparse=False) # Tensorflow is incompatible with sparse matrix\n",
    "train_labels_one_hot = one_hot_en.fit_transform(train_df['target'].to_numpy().reshape(-1,1))\n",
    "test_labels_one_hot = one_hot_en.transform(test_df['target'].to_numpy().reshape(-1,1))\n",
    "val_labels_one_hot = one_hot_en.transform(val_df['target'].to_numpy().reshape(-1,1))\n",
    "train_labels_one_hot[:5]"
   ]
  },
  {
   "cell_type": "markdown",
   "metadata": {
    "id": "jpjLH9RjvBJQ"
   },
   "source": [
    "## tensorflow one-hot"
   ]
  },
  {
   "cell_type": "code",
   "execution_count": null,
   "metadata": {
    "colab": {
     "base_uri": "https://localhost:8080/"
    },
    "id": "FiWA2Ze0lwwv",
    "outputId": "88bf2eeb-846a-4657-a77c-75a0a68148f1"
   },
   "outputs": [
    {
     "data": {
      "text/plain": [
       "(array(['sadness', 'anger', 'love', 'surprise', 'fear', 'joy'],\n",
       "       dtype=object), 6)"
      ]
     },
     "execution_count": 11,
     "metadata": {},
     "output_type": "execute_result"
    }
   ],
   "source": [
    "class_names = train_df['target'].unique()\n",
    "num_classes = len(class_names)\n",
    "class_names, num_classes"
   ]
  },
  {
   "cell_type": "code",
   "execution_count": null,
   "metadata": {
    "colab": {
     "base_uri": "https://localhost:8080/"
    },
    "id": "fvWZWRuqtDMZ",
    "outputId": "56abf28f-b1a2-4ce1-a7c4-8331513673d5"
   },
   "outputs": [
    {
     "data": {
      "text/plain": [
       "({'anger': 1, 'fear': 4, 'joy': 5, 'love': 2, 'sadness': 0, 'surprise': 3},\n",
       " [0, 0, 1, 2, 1],\n",
       " array(['sadness', 'sadness', 'anger', 'love', 'anger'], dtype=object))"
      ]
     },
     "execution_count": 12,
     "metadata": {},
     "output_type": "execute_result"
    }
   ],
   "source": [
    "def encode_labels(train_labels, val_labels, test_labels):\n",
    "    \"\"\" Assigns a numeric value to each label since some are subject's names \"\"\"\n",
    "    found_labels = []\n",
    "    index = 0\n",
    "    mapping = {}\n",
    "    for i in train_labels:\n",
    "        if i in found_labels:\n",
    "            continue\n",
    "        mapping[i] = index\n",
    "        index += 1\n",
    "        found_labels.append(i)\n",
    "    return [mapping[i] for i in train_labels], [mapping[i] for i in val_labels],[mapping[i] for i in test_labels], mapping\n",
    "\n",
    "train_labels, val_labels, test_labels, mapping = encode_labels(train_df['target'].to_numpy(), val_df['target'].to_numpy(), test_df['target'].to_numpy())\n",
    "mapping, train_labels[:5], train_df['target'].to_numpy()[:5]"
   ]
  },
  {
   "cell_type": "code",
   "execution_count": null,
   "metadata": {
    "colab": {
     "base_uri": "https://localhost:8080/"
    },
    "id": "_XAqrFTvvYsp",
    "outputId": "3fee84b4-23d6-449d-da0e-4fcfbe9673c8"
   },
   "outputs": [
    {
     "data": {
      "text/plain": [
       "<tf.Tensor: shape=(5, 6), dtype=float32, numpy=\n",
       "array([[1., 0., 0., 0., 0., 0.],\n",
       "       [1., 0., 0., 0., 0., 0.],\n",
       "       [0., 1., 0., 0., 0., 0.],\n",
       "       [0., 0., 1., 0., 0., 0.],\n",
       "       [0., 1., 0., 0., 0., 0.]], dtype=float32)>"
      ]
     },
     "execution_count": 13,
     "metadata": {},
     "output_type": "execute_result"
    }
   ],
   "source": [
    "one_hot_train_labels = tf.one_hot(indices=train_labels, depth=num_classes)\n",
    "one_hot_val_labels = tf.one_hot(indices=val_labels, depth=num_classes)\n",
    "one_hot_test_labels = tf.one_hot(indices=test_labels, depth=num_classes)\n",
    "one_hot_train_labels[:5]"
   ]
  },
  {
   "cell_type": "code",
   "execution_count": null,
   "metadata": {
    "colab": {
     "base_uri": "https://localhost:8080/"
    },
    "id": "i6_KdQePyHVT",
    "outputId": "f06a2637-d849-4887-944c-d34cf267f6df"
   },
   "outputs": [
    {
     "data": {
      "text/plain": [
       "(array([4, 4, 0, 3, 0]),\n",
       " array(['sadness', 'sadness', 'anger', 'love', 'anger'], dtype=object))"
      ]
     },
     "execution_count": 14,
     "metadata": {},
     "output_type": "execute_result"
    }
   ],
   "source": [
    "# Integer encode labels\n",
    "from sklearn.preprocessing import LabelEncoder\n",
    "label_encoder = LabelEncoder()\n",
    "train_labels_encoded = label_encoder.fit_transform(train_df['target'].to_numpy())\n",
    "val_labels_encoded = label_encoder.transform(val_df['target'].to_numpy())\n",
    "test_label_encoded = label_encoder.transform(test_df['target'].to_numpy())\n",
    "\n",
    "# check what training labels look like\n",
    "train_labels_encoded[:5], train_df['target'].to_numpy()[:5]"
   ]
  },
  {
   "cell_type": "markdown",
   "metadata": {
    "id": "yZ3fjfeD0Zyh"
   },
   "source": [
    "# Model 0: Baseline (TF-IDF Multinomial Naive Bayes Classifier)"
   ]
  },
  {
   "cell_type": "code",
   "execution_count": null,
   "metadata": {
    "id": "njXXaRno1Ka5"
   },
   "outputs": [],
   "source": [
    "from sklearn.feature_extraction.text import TfidfVectorizer\n",
    "from sklearn.naive_bayes import MultinomialNB\n",
    "from sklearn.pipeline import Pipeline\n",
    "\n",
    "# create a pipeline\n",
    "model_0 = Pipeline([\n",
    "                    (\"tf-idf\", TfidfVectorizer()),\n",
    "                    (\"clf\", MultinomialNB())\n",
    "])\n",
    "\n",
    "history_model_0 = model_0.fit(X = train_sentences,\n",
    "                              y = train_labels) # must use train_labels_encoded, \n",
    "                                                        # train_labels_one_hot doesn't work"
   ]
  },
  {
   "cell_type": "code",
   "execution_count": null,
   "metadata": {
    "colab": {
     "base_uri": "https://localhost:8080/"
    },
    "id": "-NEPnQj91tSE",
    "outputId": "cb19c83b-5824-492d-c457-4a8eb3af4cc7"
   },
   "outputs": [
    {
     "data": {
      "text/plain": [
       "0.641"
      ]
     },
     "execution_count": 16,
     "metadata": {},
     "output_type": "execute_result"
    }
   ],
   "source": [
    "model_0.score(X = val_sentences,\n",
    "              y = val_labels)"
   ]
  },
  {
   "cell_type": "markdown",
   "metadata": {
    "id": "ATI0h_oI2SQP"
   },
   "source": [
    "# Vectorization and Embedding"
   ]
  },
  {
   "cell_type": "markdown",
   "metadata": {
    "id": "Ol9a4zsC4obA"
   },
   "source": [
    "## Vectorizer"
   ]
  },
  {
   "cell_type": "code",
   "execution_count": null,
   "metadata": {
    "colab": {
     "base_uri": "https://localhost:8080/"
    },
    "id": "P5roK-1u2vrN",
    "outputId": "5cc83c0b-51b8-4697-df9f-50b4897140db"
   },
   "outputs": [
    {
     "data": {
      "text/plain": [
       "19.1663125"
      ]
     },
     "execution_count": 17,
     "metadata": {},
     "output_type": "execute_result"
    }
   ],
   "source": [
    "import numpy as np\n",
    "sent_len = [len(sentence.split()) for sentence in train_sentences] \n",
    "# .split() split sentences into individual token\n",
    "\n",
    "np.mean(sent_len)"
   ]
  },
  {
   "cell_type": "code",
   "execution_count": null,
   "metadata": {
    "colab": {
     "base_uri": "https://localhost:8080/",
     "height": 369
    },
    "id": "4zavnfOf2_dK",
    "outputId": "f8476caa-e497-4a4c-ed96-6d205dac80aa"
   },
   "outputs": [
    {
     "data": {
      "text/plain": [
       "(array([ 851., 1790., 1878., 1917., 1834., 2134., 1264., 1042.,  891.,\n",
       "         608.,  609.,  354.,  256.,  197.,  132.,  119.,   73.,   33.,\n",
       "          12.,    6.]),\n",
       " array([ 2. ,  5.2,  8.4, 11.6, 14.8, 18. , 21.2, 24.4, 27.6, 30.8, 34. ,\n",
       "        37.2, 40.4, 43.6, 46.8, 50. , 53.2, 56.4, 59.6, 62.8, 66. ]),\n",
       " <a list of 20 Patch objects>)"
      ]
     },
     "execution_count": 18,
     "metadata": {},
     "output_type": "execute_result"
    },
    {
     "data": {
      "image/png": "[encoded data removed]",
      "text/plain": [
       "<Figure size 432x288 with 1 Axes>"
      ]
     },
     "metadata": {
      "needs_background": "light"
     },
     "output_type": "display_data"
    }
   ],
   "source": [
    "import matplotlib.pyplot as plt\n",
    "plt.hist(sent_len, bins=20)"
   ]
  },
  {
   "cell_type": "code",
   "execution_count": null,
   "metadata": {
    "colab": {
     "base_uri": "https://localhost:8080/"
    },
    "id": "vNAyIWkM4Ffz",
    "outputId": "ddfa5388-e465-4fcf-8869-757caf783d69"
   },
   "outputs": [
    {
     "data": {
      "text/plain": [
       "52"
      ]
     },
     "execution_count": 19,
     "metadata": {},
     "output_type": "execute_result"
    }
   ],
   "source": [
    "output_seq_len = round(np.percentile(sent_len, 99))\n",
    "output_seq_len"
   ]
  },
  {
   "cell_type": "code",
   "execution_count": null,
   "metadata": {
    "id": "YcH1Y6HO2fAU"
   },
   "outputs": [],
   "source": [
    "from tensorflow.keras.layers.experimental.preprocessing import TextVectorization\n",
    "max_tokens = 68000\n",
    "text_vectorizer = TextVectorization(max_tokens = max_tokens,\n",
    "                                    output_sequence_length = output_seq_len)"
   ]
  },
  {
   "cell_type": "code",
   "execution_count": null,
   "metadata": {
    "id": "zVQYFdhj4Xj1"
   },
   "outputs": [],
   "source": [
    "text_vectorizer.adapt(train_sentences) # fit"
   ]
  },
  {
   "cell_type": "code",
   "execution_count": null,
   "metadata": {
    "colab": {
     "base_uri": "https://localhost:8080/"
    },
    "id": "WEv3RjDT4a6d",
    "outputId": "91d1eeca-9252-4e75-a77f-034f50bea423"
   },
   "outputs": [
    {
     "name": "stdout",
     "output_type": "stream",
     "text": [
      "Text:\n",
      "i am thankful for not attending therapy but am really no further forward in fact probably feeling more isolated misunderstood and lonely in it\n",
      "\n",
      "Length of text: 24\n",
      "\n",
      "Vectorized text: [[   2   24  330   16   26 2272 1893   19   24   41   96 1089  783   12\n",
      "   311  336    9   38  549 2887    4  364   12   13    0    0    0    0\n",
      "     0    0    0    0    0    0    0    0    0    0    0    0    0    0\n",
      "     0    0    0    0    0    0    0    0    0    0]]\n"
     ]
    }
   ],
   "source": [
    "# Test out text vectorizer on random sentences\n",
    "import random\n",
    "target_sentence = random.choice(train_sentences)\n",
    "print(f\"Text:\\n{target_sentence}\")\n",
    "print(f\"\\nLength of text: {len(target_sentence.split())}\")\n",
    "print(f\"\\nVectorized text: {text_vectorizer([target_sentence])}\")"
   ]
  },
  {
   "cell_type": "code",
   "execution_count": null,
   "metadata": {
    "colab": {
     "base_uri": "https://localhost:8080/"
    },
    "id": "OVx5keAC4wza",
    "outputId": "43e1e11a-77da-491b-eb4f-ad5d6bf20744"
   },
   "outputs": [
    {
     "name": "stdout",
     "output_type": "stream",
     "text": [
      "Number of words in vocab: 15214\n",
      "Most common words in the vocab: ['', '[UNK]', 'i', 'feel', 'and']\n",
      "Least common words in the vocab: ['aahhh', 'aac', 'aaaand', 'aaaaand', 'aaaaaaand']\n"
     ]
    }
   ],
   "source": [
    "# How many words in training vocab? (max_tokens)\n",
    "text_vocab = text_vectorizer.get_vocabulary()\n",
    "print(f'Number of words in vocab: {len(text_vocab)}')\n",
    "print(f'Most common words in the vocab: {text_vocab[:5]}')\n",
    "print(f'Least common words in the vocab: {text_vocab[-5:]}')"
   ]
  },
  {
   "cell_type": "code",
   "execution_count": null,
   "metadata": {
    "colab": {
     "base_uri": "https://localhost:8080/"
    },
    "id": "m1bWAuYb9zqI",
    "outputId": "57a26a00-43fb-478a-b818-310babc446d7"
   },
   "outputs": [
    {
     "data": {
      "text/plain": [
       "{'batch_input_shape': (None,),\n",
       " 'dtype': 'string',\n",
       " 'idf_weights': None,\n",
       " 'max_tokens': 68000,\n",
       " 'name': 'text_vectorization',\n",
       " 'ngrams': None,\n",
       " 'output_mode': 'int',\n",
       " 'output_sequence_length': 52,\n",
       " 'pad_to_max_tokens': False,\n",
       " 'ragged': False,\n",
       " 'sparse': False,\n",
       " 'split': 'whitespace',\n",
       " 'standardize': 'lower_and_strip_punctuation',\n",
       " 'trainable': True,\n",
       " 'vocabulary': None}"
      ]
     },
     "execution_count": 24,
     "metadata": {},
     "output_type": "execute_result"
    }
   ],
   "source": [
    "text_vectorizer.get_config()"
   ]
  },
  {
   "cell_type": "markdown",
   "metadata": {
    "id": "0J-oWqtE4hAG"
   },
   "source": [
    "## Embedding"
   ]
  },
  {
   "cell_type": "code",
   "execution_count": null,
   "metadata": {
    "id": "2qiD4yqS4s5U"
   },
   "outputs": [],
   "source": [
    "from tensorflow.keras import layers\n",
    "token_embed = layers.Embedding(input_dim = len(text_vocab),\n",
    "                               output_dim = 128,\n",
    "                               mask_zero = True,\n",
    "                               name = 'token_embedding')"
   ]
  },
  {
   "cell_type": "code",
   "execution_count": null,
   "metadata": {
    "colab": {
     "base_uri": "https://localhost:8080/"
    },
    "id": "NxtH8Vdl9zEZ",
    "outputId": "dacbb4df-bda8-441f-b36f-f898a7bc215d"
   },
   "outputs": [
    {
     "name": "stdout",
     "output_type": "stream",
     "text": [
      "Sentence before vectorization:\n",
      " i am thankful for not attending therapy but am really no further forward in fact probably feeling more isolated misunderstood and lonely in it\n",
      "\n",
      "Sentence after vectorization:\n",
      " [[   2   24  330   16   26 2272 1893   19   24   41   96 1089  783   12\n",
      "   311  336    9   38  549 2887    4  364   12   13    0    0    0    0\n",
      "     0    0    0    0    0    0    0    0    0    0    0    0    0    0\n",
      "     0    0    0    0    0    0    0    0    0    0]]\n",
      "\n",
      "Sentence after embedding:\n",
      " [[[-0.02809387 -0.04185973 -0.01185056 ...  0.04186554 -0.02548292\n",
      "   -0.00993829]\n",
      "  [-0.02108677  0.01820273  0.03718479 ... -0.04545115  0.0300664\n",
      "   -0.04808471]\n",
      "  [-0.03109918  0.01616578 -0.0407323  ... -0.03657935 -0.04018811\n",
      "    0.00700139]\n",
      "  ...\n",
      "  [-0.03249587  0.03918021 -0.04225766 ...  0.02594507 -0.02268258\n",
      "    0.0421241 ]\n",
      "  [-0.03249587  0.03918021 -0.04225766 ...  0.02594507 -0.02268258\n",
      "    0.0421241 ]\n",
      "  [-0.03249587  0.03918021 -0.04225766 ...  0.02594507 -0.02268258\n",
      "    0.0421241 ]]]\n",
      "\n",
      "Embedded sentence shape: (1, 52, 128)\n"
     ]
    }
   ],
   "source": [
    "# Show example embedding\n",
    "print(f'Sentence before vectorization:\\n {target_sentence}\\n')\n",
    "\n",
    "vectorized_sentence = text_vectorizer([target_sentence])\n",
    "print(f\"Sentence after vectorization:\\n {vectorized_sentence}\\n\")\n",
    "\n",
    "embedded_sentence = token_embed(vectorized_sentence)\n",
    "print(f'Sentence after embedding:\\n {embedded_sentence}\\n')\n",
    "print(f'Embedded sentence shape: {embedded_sentence.shape}')"
   ]
  },
  {
   "cell_type": "markdown",
   "metadata": {
    "id": "2mSwnikBAxk2"
   },
   "source": [
    "# Create Datasets"
   ]
  },
  {
   "cell_type": "code",
   "execution_count": null,
   "metadata": {
    "colab": {
     "base_uri": "https://localhost:8080/"
    },
    "id": "9CiL4W_uBajK",
    "outputId": "430c57be-c765-4e49-85b4-649848197671"
   },
   "outputs": [
    {
     "data": {
      "text/plain": [
       "<PrefetchDataset element_spec=(TensorSpec(shape=(None,), dtype=tf.string, name=None), TensorSpec(shape=(None, 6), dtype=tf.float32, name=None))>"
      ]
     },
     "execution_count": 27,
     "metadata": {},
     "output_type": "execute_result"
    }
   ],
   "source": [
    "import tensorflow as tf\n",
    "train_dataset = tf.data.Dataset.from_tensor_slices((train_sentences, one_hot_train_labels)).batch(32).prefetch(tf.data.AUTOTUNE)\n",
    "test_dataset = tf.data.Dataset.from_tensor_slices((test_sentences, one_hot_test_labels)).batch(32).prefetch(tf.data.AUTOTUNE)\n",
    "val_dataset = tf.data.Dataset.from_tensor_slices((val_sentences, one_hot_val_labels)).batch(32).prefetch(tf.data.AUTOTUNE)\n",
    "\n",
    "train_dataset"
   ]
  },
  {
   "cell_type": "markdown",
   "metadata": {
    "id": "NFOuccGsDQ4o"
   },
   "source": [
    "# Model 1: Conv1D"
   ]
  },
  {
   "cell_type": "code",
   "execution_count": null,
   "metadata": {
    "id": "Kht3AEomEprT"
   },
   "outputs": [],
   "source": [
    "import os\n",
    "def create_model_checkpoint(model_name, save_path = 'model_experiment'):\n",
    "  return tf.keras.callbacks.ModelCheckpoint(filepath = os.path.join(save_path, model_name),\n",
    "                                            monitor = 'val_loss',\n",
    "                                            verbose = 0,\n",
    "                                            save_best_only = True)"
   ]
  },
  {
   "cell_type": "code",
   "execution_count": null,
   "metadata": {
    "id": "xMgamNTiBwtU"
   },
   "outputs": [],
   "source": [
    "from tensorflow.keras import layers\n",
    "inputs = layers.Input(shape=[], dtype = tf.string, name = 'input_layer')\n",
    "text_vectors = text_vectorizer(inputs)\n",
    "token_embedding = token_embed(text_vectors)\n",
    "x = layers.Conv1D(64, kernel_size = 5, padding = 'same', activation='relu')(token_embedding)\n",
    "x = layers.Conv1D(32, 5, padding='same', activation='relu')(x)\n",
    "x = layers.GlobalAveragePooling1D()(x)\n",
    "x = layers.Flatten()(x)\n",
    "outputs = layers.Dense(num_classes, activation='softmax')(x)\n",
    "model_1 = tf.keras.Model(inputs, outputs, name='model_1')\n",
    "\n",
    "model_1.compile(loss='categorical_crossentropy',\n",
    "                optimizer = tf.keras.optimizers.Adam(),\n",
    "                metrics=['accuracy'])"
   ]
  },
  {
   "cell_type": "code",
   "execution_count": null,
   "metadata": {
    "colab": {
     "base_uri": "https://localhost:8080/"
    },
    "id": "k5J0sSoNFjga",
    "outputId": "ef8f84e0-be3b-4a54-a3af-763175702c45"
   },
   "outputs": [
    {
     "name": "stdout",
     "output_type": "stream",
     "text": [
      "Model: \"model_1\"\n",
      "_________________________________________________________________\n",
      " Layer (type)                Output Shape              Param #   \n",
      "=================================================================\n",
      " input_layer (InputLayer)    [(None,)]                 0         \n",
      "                                                                 \n",
      " text_vectorization (TextVec  (None, 52)               0         \n",
      " torization)                                                     \n",
      "                                                                 \n",
      " token_embedding (Embedding)  (None, 52, 128)          1947392   \n",
      "                                                                 \n",
      " conv1d (Conv1D)             (None, 52, 64)            41024     \n",
      "                                                                 \n",
      " conv1d_1 (Conv1D)           (None, 52, 32)            10272     \n",
      "                                                                 \n",
      " global_average_pooling1d (G  (None, 32)               0         \n",
      " lobalAveragePooling1D)                                          \n",
      "                                                                 \n",
      " flatten (Flatten)           (None, 32)                0         \n",
      "                                                                 \n",
      " dense (Dense)               (None, 6)                 198       \n",
      "                                                                 \n",
      "=================================================================\n",
      "Total params: 1,998,886\n",
      "Trainable params: 1,998,886\n",
      "Non-trainable params: 0\n",
      "_________________________________________________________________\n"
     ]
    }
   ],
   "source": [
    "model_1.summary()"
   ]
  },
  {
   "cell_type": "code",
   "execution_count": null,
   "metadata": {
    "colab": {
     "base_uri": "https://localhost:8080/"
    },
    "id": "damX1MIHMtJP",
    "outputId": "cf2a7178-7927-4107-8a7e-ce60b0ab7db1"
   },
   "outputs": [
    {
     "name": "stdout",
     "output_type": "stream",
     "text": [
      "Epoch 1/5\n",
      "497/500 [============================>.] - ETA: 0s - loss: 1.1064 - accuracy: 0.5740INFO:tensorflow:Assets written to: model_experiment/model_1/assets\n",
      "500/500 [==============================] - 17s 15ms/step - loss: 1.1028 - accuracy: 0.5756 - val_loss: 0.4658 - val_accuracy: 0.8490\n",
      "Epoch 2/5\n",
      "499/500 [============================>.] - ETA: 0s - loss: 0.2618 - accuracy: 0.9078INFO:tensorflow:Assets written to: model_experiment/model_1/assets\n",
      "500/500 [==============================] - 7s 13ms/step - loss: 0.2616 - accuracy: 0.9078 - val_loss: 0.3445 - val_accuracy: 0.8930\n",
      "Epoch 3/5\n",
      "500/500 [==============================] - 5s 11ms/step - loss: 0.1244 - accuracy: 0.9572 - val_loss: 0.3632 - val_accuracy: 0.8955\n",
      "Epoch 4/5\n",
      "500/500 [==============================] - 5s 10ms/step - loss: 0.0727 - accuracy: 0.9764 - val_loss: 0.3948 - val_accuracy: 0.8955\n",
      "Epoch 5/5\n",
      "500/500 [==============================] - 5s 10ms/step - loss: 0.0494 - accuracy: 0.9847 - val_loss: 0.4536 - val_accuracy: 0.8945\n"
     ]
    }
   ],
   "source": [
    "history_model_1 = model_1.fit(train_dataset,\n",
    "                              epochs=5,\n",
    "                              validation_data = val_dataset,\n",
    "                              callbacks = [create_model_checkpoint(model_1.name)])"
   ]
  },
  {
   "cell_type": "code",
   "execution_count": null,
   "metadata": {
    "colab": {
     "base_uri": "https://localhost:8080/"
    },
    "id": "aoseK9c1RXx8",
    "outputId": "a69bf6ec-fe4d-486c-dfa1-33754efb2438"
   },
   "outputs": [
    {
     "name": "stdout",
     "output_type": "stream",
     "text": [
      "63/63 [==============================] - 0s 5ms/step - loss: 0.4536 - accuracy: 0.8945\n"
     ]
    },
    {
     "data": {
      "text/plain": [
       "[0.4535501003265381, 0.8945000171661377]"
      ]
     },
     "execution_count": 33,
     "metadata": {},
     "output_type": "execute_result"
    }
   ],
   "source": [
    "model_1.evaluate(val_dataset)"
   ]
  },
  {
   "cell_type": "code",
   "execution_count": null,
   "metadata": {
    "colab": {
     "base_uri": "https://localhost:8080/"
    },
    "id": "PN5Ahf2Okzhq",
    "outputId": "b405c896-378f-41ae-c212-7d201bff4b29"
   },
   "outputs": [
    {
     "name": "stdout",
     "output_type": "stream",
     "text": [
      "63/63 [==============================] - 0s 5ms/step - loss: 0.3988 - accuracy: 0.8990\n"
     ]
    },
    {
     "data": {
      "text/plain": [
       "[0.3987589478492737, 0.8989999890327454]"
      ]
     },
     "execution_count": 34,
     "metadata": {},
     "output_type": "execute_result"
    }
   ],
   "source": [
    "model_1.evaluate(test_dataset)"
   ]
  },
  {
   "cell_type": "code",
   "execution_count": null,
   "metadata": {
    "colab": {
     "base_uri": "https://localhost:8080/"
    },
    "id": "iNDriU2WMU0V",
    "outputId": "8822b9b5-77ad-459b-8df2-7aa50b9ef153"
   },
   "outputs": [
    {
     "data": {
      "text/plain": [
       "array([[1.34315906e-06, 1.79241897e-06, 9.79681015e-01, 1.04781715e-02,\n",
       "        4.05546689e-06, 9.83364321e-03]], dtype=float32)"
      ]
     },
     "execution_count": 35,
     "metadata": {},
     "output_type": "execute_result"
    }
   ],
   "source": [
    "model_1.predict(['i feel romantic'])"
   ]
  },
  {
   "cell_type": "code",
   "execution_count": null,
   "metadata": {
    "colab": {
     "base_uri": "https://localhost:8080/"
    },
    "id": "hFtlUcwxNPkv",
    "outputId": "6c7e899f-3f90-46c6-e9dc-379785c94ecf"
   },
   "outputs": [
    {
     "name": "stdout",
     "output_type": "stream",
     "text": [
      "INFO:tensorflow:Assets written to: model_1/assets\n"
     ]
    }
   ],
   "source": [
    "model_1.save('model_1')"
   ]
  },
  {
   "cell_type": "code",
   "execution_count": null,
   "metadata": {
    "colab": {
     "base_uri": "https://localhost:8080/"
    },
    "id": "E9QHkjliNZrJ",
    "outputId": "f6684752-5479-4660-ab89-c30c1b90a252"
   },
   "outputs": [
    {
     "name": "stdout",
     "output_type": "stream",
     "text": [
      "63/63 [==============================] - 0s 5ms/step - loss: 0.3988 - accuracy: 0.8990\n"
     ]
    },
    {
     "data": {
      "text/plain": [
       "[0.3987589478492737, 0.8989999890327454]"
      ]
     },
     "execution_count": 37,
     "metadata": {},
     "output_type": "execute_result"
    }
   ],
   "source": [
    "model_1_load = tf.keras.models.load_model('model_1')\n",
    "model_1_load.evaluate(test_dataset)"
   ]
  },
  {
   "cell_type": "markdown",
   "metadata": {
    "id": "JE7przmDxwM2"
   },
   "source": [
    "# Model 2: LSTM"
   ]
  },
  {
   "cell_type": "code",
   "execution_count": null,
   "metadata": {
    "colab": {
     "base_uri": "https://localhost:8080/"
    },
    "id": "30XnHuVDx0Cq",
    "outputId": "cbdab715-a896-4b65-fcec-ad52a38a5f95"
   },
   "outputs": [
    {
     "name": "stdout",
     "output_type": "stream",
     "text": [
      "Model: \"model_2_lstm\"\n",
      "_________________________________________________________________\n",
      " Layer (type)                Output Shape              Param #   \n",
      "=================================================================\n",
      " input_layer (InputLayer)    [(None,)]                 0         \n",
      "                                                                 \n",
      " text_vectorization (TextVec  (None, 52)               0         \n",
      " torization)                                                     \n",
      "                                                                 \n",
      " token_embedding (Embedding)  (None, 52, 128)          1947392   \n",
      "                                                                 \n",
      " lstm (LSTM)                 (None, 52, 10)            5560      \n",
      "                                                                 \n",
      " lstm_1 (LSTM)               (None, 52, 10)            840       \n",
      "                                                                 \n",
      " flatten_1 (Flatten)         (None, 520)               0         \n",
      "                                                                 \n",
      " dense_1 (Dense)             (None, 32)                16672     \n",
      "                                                                 \n",
      " dense_2 (Dense)             (None, 6)                 198       \n",
      "                                                                 \n",
      "=================================================================\n",
      "Total params: 1,970,662\n",
      "Trainable params: 1,970,662\n",
      "Non-trainable params: 0\n",
      "_________________________________________________________________\n"
     ]
    }
   ],
   "source": [
    "from tensorflow.keras import layers\n",
    "inputs = layers.Input(shape=[], dtype=tf.string, name='input_layer')\n",
    "text_vectors = text_vectorizer(inputs)\n",
    "token_embedding = token_embed(text_vectors)\n",
    "x = layers.LSTM(10, return_sequences=True)(token_embedding)\n",
    "x = layers.LSTM(10, return_sequences=True)(x)\n",
    "x = layers.Flatten()(x)\n",
    "x = layers.Dense(32, activation='relu')(x)\n",
    "outputs = layers.Dense(num_classes, activation='softmax')(x)\n",
    "model_2 = tf.keras.Model(inputs, outputs, name='model_2_lstm')\n",
    "\n",
    "model_2.compile(loss = 'categorical_crossentropy',\n",
    "                optimizer = tf.keras.optimizers.Adam(),\n",
    "                metrics=['acc'])\n",
    "\n",
    "model_2.summary()"
   ]
  },
  {
   "cell_type": "code",
   "execution_count": null,
   "metadata": {
    "colab": {
     "base_uri": "https://localhost:8080/"
    },
    "id": "cvpjaC_B_k5o",
    "outputId": "5f319c39-9972-4970-863e-77f1c955a131"
   },
   "outputs": [
    {
     "name": "stdout",
     "output_type": "stream",
     "text": [
      "Epoch 1/5\n",
      "499/500 [============================>.] - ETA: 0s - loss: 0.7229 - acc: 0.7454"
     ]
    },
    {
     "name": "stderr",
     "output_type": "stream",
     "text": [
      "WARNING:absl:Found untraced functions such as lstm_cell_layer_call_fn, lstm_cell_layer_call_and_return_conditional_losses, lstm_cell_1_layer_call_fn, lstm_cell_1_layer_call_and_return_conditional_losses while saving (showing 4 of 4). These functions will not be directly callable after loading.\n"
     ]
    },
    {
     "name": "stdout",
     "output_type": "stream",
     "text": [
      "INFO:tensorflow:Assets written to: model_experiment/model_2_lstm/assets\n"
     ]
    },
    {
     "name": "stderr",
     "output_type": "stream",
     "text": [
      "INFO:tensorflow:Assets written to: model_experiment/model_2_lstm/assets\n",
      "WARNING:absl:<keras.layers.recurrent.LSTMCell object at 0x7f7df74a6090> has the same name 'LSTMCell' as a built-in Keras object. Consider renaming <class 'keras.layers.recurrent.LSTMCell'> to avoid naming conflicts when loading with `tf.keras.models.load_model`. If renaming is not possible, pass the object in the `custom_objects` parameter of the load function.\n",
      "WARNING:absl:<keras.layers.recurrent.LSTMCell object at 0x7f7df73388d0> has the same name 'LSTMCell' as a built-in Keras object. Consider renaming <class 'keras.layers.recurrent.LSTMCell'> to avoid naming conflicts when loading with `tf.keras.models.load_model`. If renaming is not possible, pass the object in the `custom_objects` parameter of the load function.\n"
     ]
    },
    {
     "name": "stdout",
     "output_type": "stream",
     "text": [
      "500/500 [==============================] - 55s 90ms/step - loss: 0.7226 - acc: 0.7456 - val_loss: 0.5818 - val_acc: 0.8205\n",
      "Epoch 2/5\n",
      "500/500 [==============================] - 17s 35ms/step - loss: 0.2266 - acc: 0.9273 - val_loss: 0.6296 - val_acc: 0.8325\n",
      "Epoch 3/5\n",
      "500/500 [==============================] - 17s 34ms/step - loss: 0.1254 - acc: 0.9621 - val_loss: 0.7347 - val_acc: 0.8305\n",
      "Epoch 4/5\n",
      "500/500 [==============================] - 17s 34ms/step - loss: 0.0930 - acc: 0.9712 - val_loss: 0.7302 - val_acc: 0.8355\n",
      "Epoch 5/5\n",
      "500/500 [==============================] - 17s 33ms/step - loss: 0.0755 - acc: 0.9771 - val_loss: 0.7954 - val_acc: 0.8400\n"
     ]
    }
   ],
   "source": [
    "history_model_2 = model_2.fit(train_dataset,\n",
    "                              epochs=5,\n",
    "                              validation_data = val_dataset,\n",
    "                              callbacks = [create_model_checkpoint(model_2.name)])"
   ]
  },
  {
   "cell_type": "code",
   "execution_count": null,
   "metadata": {
    "colab": {
     "base_uri": "https://localhost:8080/"
    },
    "id": "5uVEUQPH_uyE",
    "outputId": "e99fd102-6c5c-4367-cae8-426e1592ac79"
   },
   "outputs": [
    {
     "name": "stdout",
     "output_type": "stream",
     "text": [
      "63/63 [==============================] - 1s 13ms/step - loss: 0.7954 - acc: 0.8400\n"
     ]
    },
    {
     "data": {
      "text/plain": [
       "[0.7954180240631104, 0.8399999737739563]"
      ]
     },
     "execution_count": 40,
     "metadata": {},
     "output_type": "execute_result"
    }
   ],
   "source": [
    "model_2.evaluate(val_dataset)"
   ]
  },
  {
   "cell_type": "code",
   "execution_count": null,
   "metadata": {
    "colab": {
     "base_uri": "https://localhost:8080/"
    },
    "id": "WFJPNMEj_0sS",
    "outputId": "84360d6a-0e1f-48a0-d1a8-1373e6ea5545"
   },
   "outputs": [
    {
     "name": "stdout",
     "output_type": "stream",
     "text": [
      "63/63 [==============================] - 1s 13ms/step - loss: 0.7697 - acc: 0.8375\n"
     ]
    },
    {
     "data": {
      "text/plain": [
       "[0.7696695923805237, 0.8374999761581421]"
      ]
     },
     "execution_count": 42,
     "metadata": {},
     "output_type": "execute_result"
    }
   ],
   "source": [
    "model_2.evaluate(test_dataset)"
   ]
  },
  {
   "cell_type": "markdown",
   "metadata": {
    "id": "zr2hlicG4sa9"
   },
   "source": [
    "# Tensorflow Hub"
   ]
  },
  {
   "cell_type": "markdown",
   "metadata": {
    "id": "7nPAf3Te5DS9"
   },
   "source": [
    "## Universal Sentence Encoder (USE)"
   ]
  },
  {
   "cell_type": "code",
   "execution_count": null,
   "metadata": {
    "id": "pXTU-z6K4vaj"
   },
   "outputs": [],
   "source": [
    "import tensorflow_hub as hub\n",
    "use_embedding_layer = hub.KerasLayer('https://tfhub.dev/google/universal-sentence-encoder/4',\n",
    "                                        trainable=True, name = 'universal_sentence_encoder') # trainable = False, no fine_tuning"
   ]
  },
  {
   "cell_type": "code",
   "execution_count": null,
   "metadata": {
    "colab": {
     "base_uri": "https://localhost:8080/"
    },
    "id": "-2brUN744_1u",
    "outputId": "35527a93-e1e5-4afd-8acb-11e9c1f100b0"
   },
   "outputs": [
    {
     "name": "stdout",
     "output_type": "stream",
     "text": [
      "Random sentence: i feel very disgusted by that i cant tolerated her actions anymore by writing this post\n",
      "Sentence after embedding:\n",
      "[ 0.00875793  0.03338599 -0.02275609 -0.02101293 -0.02253612  0.00084866\n",
      "  0.04161102  0.06259531  0.04605292  0.03570007 -0.00355593  0.02099572\n",
      "  0.06115022 -0.03877518 -0.01621486 -0.11257262 -0.01649475 -0.00501209\n",
      "  0.06463665  0.04314382]\n",
      "Length of sentence embedding: 512\n"
     ]
    }
   ],
   "source": [
    "# Test out the pretrained embedding on a random sentence\n",
    "random_train_sentence = random.choice(train_sentences)\n",
    "print(f'Random sentence: {random_train_sentence}')\n",
    "use_embedded_sentence = use_embedding_layer([random_train_sentence])\n",
    "print(f'Sentence after embedding:\\n{use_embedded_sentence[0][:20]}')\n",
    "print(f'Length of sentence embedding: {len(use_embedded_sentence[0])}')"
   ]
  },
  {
   "cell_type": "markdown",
   "metadata": {
    "id": "BUqFR4cv5xkx"
   },
   "source": [
    "### Simple Dense after USE"
   ]
  },
  {
   "cell_type": "code",
   "execution_count": null,
   "metadata": {
    "id": "4ZpnS9595RFo"
   },
   "outputs": [],
   "source": [
    "from tensorflow.keras import layers\n",
    "input = layers.Input(shape=[], dtype=tf.string, name='input_layer')\n",
    "pretrained_embed = use_embedding_layer(input)\n",
    "x = layers.Dense(128, activation = 'relu')(pretrained_embed)\n",
    "x = layers.Dropout(0.2)(x)\n",
    "output = layers.Dense(num_classes, activation='softmax')(x)\n",
    "model_2_use_dense = tf.keras.Model(input, output, name='model_2_use_dense')\n",
    "\n",
    "model_2_use_dense.compile(loss='categorical_crossentropy',\n",
    "                          optimizer = tf.keras.optimizers.Adam(),\n",
    "                          metrics=['acc'])"
   ]
  },
  {
   "cell_type": "code",
   "execution_count": null,
   "metadata": {
    "colab": {
     "base_uri": "https://localhost:8080/"
    },
    "id": "XOlP1AYm6pJR",
    "outputId": "ef686a1d-9fdc-4760-c4c4-bf7110a02aaa"
   },
   "outputs": [
    {
     "name": "stdout",
     "output_type": "stream",
     "text": [
      "Model: \"model_2_use_dense\"\n",
      "_________________________________________________________________\n",
      " Layer (type)                Output Shape              Param #   \n",
      "=================================================================\n",
      " input_layer (InputLayer)    [(None,)]                 0         \n",
      "                                                                 \n",
      " universal_sentence_encoder   (None, 512)              256797824 \n",
      " (KerasLayer)                                                    \n",
      "                                                                 \n",
      " dense_3 (Dense)             (None, 128)               65664     \n",
      "                                                                 \n",
      " dropout (Dropout)           (None, 128)               0         \n",
      "                                                                 \n",
      " dense_4 (Dense)             (None, 6)                 774       \n",
      "                                                                 \n",
      "=================================================================\n",
      "Total params: 256,864,262\n",
      "Trainable params: 256,864,262\n",
      "Non-trainable params: 0\n",
      "_________________________________________________________________\n"
     ]
    }
   ],
   "source": [
    "model_2_use_dense.summary()"
   ]
  },
  {
   "cell_type": "code",
   "execution_count": null,
   "metadata": {
    "colab": {
     "base_uri": "https://localhost:8080/"
    },
    "id": "-10gCVpN6XXK",
    "outputId": "d914210a-836b-4974-b98a-aff12acee436"
   },
   "outputs": [
    {
     "name": "stdout",
     "output_type": "stream",
     "text": [
      "Epoch 1/5\n",
      "500/500 [==============================] - ETA: 0s - loss: 0.9228 - acc: 0.6649INFO:tensorflow:Assets written to: model_experiment/model_2_use_dense/assets\n"
     ]
    },
    {
     "name": "stderr",
     "output_type": "stream",
     "text": [
      "INFO:tensorflow:Assets written to: model_experiment/model_2_use_dense/assets\n"
     ]
    },
    {
     "name": "stdout",
     "output_type": "stream",
     "text": [
      "500/500 [==============================] - 150s 281ms/step - loss: 0.9228 - acc: 0.6649 - val_loss: 0.5972 - val_acc: 0.7860\n",
      "Epoch 2/5\n",
      "500/500 [==============================] - ETA: 0s - loss: 0.1651 - acc: 0.9432INFO:tensorflow:Assets written to: model_experiment/model_2_use_dense/assets\n"
     ]
    },
    {
     "name": "stderr",
     "output_type": "stream",
     "text": [
      "INFO:tensorflow:Assets written to: model_experiment/model_2_use_dense/assets\n"
     ]
    },
    {
     "name": "stdout",
     "output_type": "stream",
     "text": [
      "500/500 [==============================] - 138s 277ms/step - loss: 0.1651 - acc: 0.9432 - val_loss: 0.5552 - val_acc: 0.8215\n",
      "Epoch 3/5\n",
      "500/500 [==============================] - 117s 234ms/step - loss: 0.0300 - acc: 0.9916 - val_loss: 0.6741 - val_acc: 0.8125\n",
      "Epoch 4/5\n",
      "500/500 [==============================] - 117s 234ms/step - loss: 0.0147 - acc: 0.9958 - val_loss: 0.7439 - val_acc: 0.8025\n",
      "Epoch 5/5\n",
      "500/500 [==============================] - 117s 233ms/step - loss: 0.0110 - acc: 0.9967 - val_loss: 0.7526 - val_acc: 0.8045\n"
     ]
    }
   ],
   "source": [
    "history_model_2_use_dense = model_2_use_dense.fit(train_dataset,\n",
    "                                                  epochs=5,\n",
    "                                                  validation_data = val_dataset,\n",
    "                                                  callbacks = [create_model_checkpoint(model_2_use_dense.name)])"
   ]
  },
  {
   "cell_type": "code",
   "execution_count": null,
   "metadata": {
    "colab": {
     "base_uri": "https://localhost:8080/"
    },
    "id": "RcZUqkr96m6x",
    "outputId": "cb779861-4b48-491e-e07e-ef81383e8287"
   },
   "outputs": [
    {
     "name": "stdout",
     "output_type": "stream",
     "text": [
      "63/63 [==============================] - 1s 16ms/step - loss: 0.7526 - acc: 0.8045\n"
     ]
    },
    {
     "data": {
      "text/plain": [
       "[0.7525956630706787, 0.8044999837875366]"
      ]
     },
     "execution_count": 48,
     "metadata": {},
     "output_type": "execute_result"
    }
   ],
   "source": [
    "model_2_use_dense.evaluate(val_dataset)"
   ]
  },
  {
   "cell_type": "code",
   "execution_count": null,
   "metadata": {
    "colab": {
     "base_uri": "https://localhost:8080/"
    },
    "id": "vDEfbj_o6uLh",
    "outputId": "06c84db4-54c0-45f1-906d-c8e0ec6f0d90"
   },
   "outputs": [
    {
     "name": "stdout",
     "output_type": "stream",
     "text": [
      "63/63 [==============================] - 1s 17ms/step - loss: 0.8121 - acc: 0.7975\n"
     ]
    },
    {
     "data": {
      "text/plain": [
       "[0.812135636806488, 0.7975000143051147]"
      ]
     },
     "execution_count": 49,
     "metadata": {},
     "output_type": "execute_result"
    }
   ],
   "source": [
    "model_2_use_dense.evaluate(test_dataset)"
   ]
  },
  {
   "cell_type": "code",
   "execution_count": null,
   "metadata": {
    "id": "cof10SxJ6wAm"
   },
   "outputs": [],
   "source": [
    "model_2_use_dense.save('model_2_use_dense.h5')"
   ]
  },
  {
   "cell_type": "markdown",
   "metadata": {
    "id": "2wDfNTst9U_b"
   },
   "source": [
    "## nnlm"
   ]
  },
  {
   "cell_type": "code",
   "execution_count": null,
   "metadata": {
    "id": "U2egNV9O-_Kz"
   },
   "outputs": [],
   "source": [
    "import tensorflow_hub as hub\n",
    "nnlm_embedding_layer = hub.KerasLayer('https://tfhub.dev/google/nnlm-en-dim128/2',\n",
    "                                        trainable=True, name = 'nnlm') # trainable = False, no fine_tuning"
   ]
  },
  {
   "cell_type": "code",
   "execution_count": null,
   "metadata": {
    "colab": {
     "base_uri": "https://localhost:8080/"
    },
    "id": "OjCp4cgAUkQ4",
    "outputId": "1c2bcd56-caa8-4c1c-fbf5-4fbcba5bcb9c"
   },
   "outputs": [
    {
     "name": "stdout",
     "output_type": "stream",
     "text": [
      "Random sentence: i remember a couple of years ago i was feeling romantic and dreamy and asked him wonder if we ll celebrate our th anniversary\n",
      "Sentence after embedding:\n",
      "[ 0.6476727   0.14424737  0.14189798  0.02576951  0.19134645  0.02180259\n",
      "  0.05892999 -0.06240362 -0.0208896  -0.11873399  0.10887104 -0.2734278\n",
      " -0.15727165 -0.1909535   0.22312124  0.09911098 -0.15988976 -0.2222449\n",
      "  0.01734188  0.23331791]\n",
      "Length of sentence embedding: 128\n"
     ]
    }
   ],
   "source": [
    "# Test out the pretrained embedding on a random sentence\n",
    "random_train_sentence = random.choice(train_sentences)\n",
    "print(f'Random sentence: {random_train_sentence}')\n",
    "nnlm_embedded_sentence = nnlm_embedding_layer([random_train_sentence])\n",
    "print(f'Sentence after embedding:\\n{nnlm_embedded_sentence[0][:20]}')\n",
    "print(f'Length of sentence embedding: {len(nnlm_embedded_sentence[0])}')"
   ]
  },
  {
   "cell_type": "code",
   "execution_count": null,
   "metadata": {
    "id": "8wyue1lyUpMj"
   },
   "outputs": [],
   "source": [
    "from tensorflow.keras import layers\n",
    "input = layers.Input(shape=[], dtype=tf.string, name='input_layer')\n",
    "embed = nnlm_embedding_layer(input)\n",
    "x = layers.Dense(128, activation='relu')(embed)\n",
    "x = layers.Dense(64, activation='relu')(x)\n",
    "x = layers.Dropout(0.2)(x)\n",
    "output = layers.Dense(num_classes, activation='softmax')(x)\n",
    "model_2_nnlm_dense = tf.keras.Model(input, output, name='model_2_nnlm_dense')\n",
    "\n",
    "model_2_nnlm_dense.compile(loss='categorical_crossentropy',\n",
    "                          optimizer = tf.keras.optimizers.Adam(),\n",
    "                          metrics=['acc'])"
   ]
  },
  {
   "cell_type": "code",
   "execution_count": null,
   "metadata": {
    "colab": {
     "base_uri": "https://localhost:8080/"
    },
    "id": "B5_m9LHfVkms",
    "outputId": "51067c5e-dae2-46c1-b65a-917b921f1333"
   },
   "outputs": [
    {
     "name": "stdout",
     "output_type": "stream",
     "text": [
      "Epoch 1/5\n",
      "499/500 [============================>.] - ETA: 0s - loss: 0.9595 - acc: 0.6586INFO:tensorflow:Assets written to: model_experiment/model_2_nnlm_dense/assets\n"
     ]
    },
    {
     "name": "stderr",
     "output_type": "stream",
     "text": [
      "INFO:tensorflow:Assets written to: model_experiment/model_2_nnlm_dense/assets\n"
     ]
    },
    {
     "name": "stdout",
     "output_type": "stream",
     "text": [
      "500/500 [==============================] - 26s 49ms/step - loss: 0.9594 - acc: 0.6587 - val_loss: 0.4705 - val_acc: 0.8470\n",
      "Epoch 2/5\n",
      "499/500 [============================>.] - ETA: 0s - loss: 0.2549 - acc: 0.9128INFO:tensorflow:Assets written to: model_experiment/model_2_nnlm_dense/assets\n"
     ]
    },
    {
     "name": "stderr",
     "output_type": "stream",
     "text": [
      "INFO:tensorflow:Assets written to: model_experiment/model_2_nnlm_dense/assets\n"
     ]
    },
    {
     "name": "stdout",
     "output_type": "stream",
     "text": [
      "500/500 [==============================] - 25s 49ms/step - loss: 0.2555 - acc: 0.9126 - val_loss: 0.3975 - val_acc: 0.8725\n",
      "Epoch 3/5\n",
      "500/500 [==============================] - 18s 37ms/step - loss: 0.1072 - acc: 0.9656 - val_loss: 0.4578 - val_acc: 0.8635\n",
      "Epoch 4/5\n",
      "500/500 [==============================] - 18s 37ms/step - loss: 0.0677 - acc: 0.9789 - val_loss: 0.5002 - val_acc: 0.8670\n",
      "Epoch 5/5\n",
      "500/500 [==============================] - 19s 37ms/step - loss: 0.0534 - acc: 0.9831 - val_loss: 0.6067 - val_acc: 0.8570\n"
     ]
    }
   ],
   "source": [
    "history_model_2_nnlm_dense = model_2_nnlm_dense.fit(train_dataset,\n",
    "                                                  epochs=5,\n",
    "                                                  validation_data = val_dataset,\n",
    "                                                  callbacks = [create_model_checkpoint(model_2_nnlm_dense.name)])"
   ]
  },
  {
   "cell_type": "code",
   "execution_count": null,
   "metadata": {
    "id": "5KuvUMaCYE-F"
   },
   "outputs": [],
   "source": [
    "load_model_2_nnlm_dense = tf.keras.models.load_model('model_experiment/model_2_nnlm_dense')"
   ]
  },
  {
   "cell_type": "code",
   "execution_count": null,
   "metadata": {
    "colab": {
     "base_uri": "https://localhost:8080/"
    },
    "id": "lme5UJIdWk7e",
    "outputId": "22ea255f-6f71-451f-f1c4-c5c48246ef46"
   },
   "outputs": [
    {
     "name": "stdout",
     "output_type": "stream",
     "text": [
      "63/63 [==============================] - 0s 4ms/step - loss: 0.3975 - acc: 0.8725\n"
     ]
    },
    {
     "data": {
      "text/plain": [
       "[0.39745861291885376, 0.8725000023841858]"
      ]
     },
     "execution_count": 47,
     "metadata": {},
     "output_type": "execute_result"
    }
   ],
   "source": [
    "load_model_2_nnlm_dense.evaluate(val_dataset)"
   ]
  },
  {
   "cell_type": "code",
   "execution_count": null,
   "metadata": {
    "colab": {
     "base_uri": "https://localhost:8080/"
    },
    "id": "p-RFyywXWow3",
    "outputId": "595b557c-37c1-46be-e6e1-5c6836693378"
   },
   "outputs": [
    {
     "name": "stdout",
     "output_type": "stream",
     "text": [
      "63/63 [==============================] - 0s 4ms/step - loss: 0.3872 - acc: 0.8640\n",
      "63/63 [==============================] - 0s 6ms/step - loss: 0.5776 - acc: 0.8535\n"
     ]
    },
    {
     "data": {
      "text/plain": [
       "([0.3871552050113678, 0.8640000224113464],\n",
       " [0.5775756239891052, 0.8535000085830688])"
      ]
     },
     "execution_count": 48,
     "metadata": {},
     "output_type": "execute_result"
    }
   ],
   "source": [
    "load_model_2_nnlm_dense.evaluate(test_dataset), model_2_nnlm_dense.evaluate(test_dataset)"
   ]
  },
  {
   "cell_type": "code",
   "execution_count": null,
   "metadata": {
    "colab": {
     "base_uri": "https://localhost:8080/"
    },
    "id": "MzOSvRxUYShb",
    "outputId": "eae47510-a697-4b3a-a738-96397c60f9f6"
   },
   "outputs": [
    {
     "data": {
      "text/plain": [
       "(array([0, 0, 0, 5, 0]), [0, 0, 0, 5, 0])"
      ]
     },
     "execution_count": 66,
     "metadata": {},
     "output_type": "execute_result"
    }
   ],
   "source": [
    "pred= load_model_2_nnlm_dense.predict(test_dataset)\n",
    "pred_prob = tf.reduce_max(pred, axis=1)\n",
    "pred = tf.argmax(pred, axis=1)\n",
    "pred.numpy()[:5], test_labels[:5]"
   ]
  },
  {
   "cell_type": "code",
   "execution_count": null,
   "metadata": {
    "colab": {
     "base_uri": "https://localhost:8080/"
    },
    "id": "yNqWAiScgIba",
    "outputId": "773eb138-86cf-486b-bcca-a6a760df60c1"
   },
   "outputs": [
    {
     "data": {
      "text/plain": [
       "{'accuracy': 86.4,\n",
       " 'f1': 0.863630277795882,\n",
       " 'precision': 0.8634984306075528,\n",
       " 'recall': 0.864}"
      ]
     },
     "execution_count": 67,
     "metadata": {},
     "output_type": "execute_result"
    }
   ],
   "source": [
    "from helper_functions import calculate_results\n",
    "calculate_results(y_true = test_labels,\n",
    "                  y_pred = pred)"
   ]
  },
  {
   "cell_type": "code",
   "execution_count": null,
   "metadata": {
    "colab": {
     "base_uri": "https://localhost:8080/"
    },
    "id": "u5YLSOhwjLhn",
    "outputId": "f0c7a54c-6c77-4691-b281-a229891d00c2"
   },
   "outputs": [
    {
     "data": {
      "text/plain": [
       "{0: 'sadness', 1: 'anger', 2: 'love', 3: 'surprise', 4: 'fear', 5: 'joy'}"
      ]
     },
     "execution_count": 68,
     "metadata": {},
     "output_type": "execute_result"
    }
   ],
   "source": [
    "mapping_new = {y:x for x,y in mapping.items()}\n",
    "mapping_new"
   ]
  },
  {
   "cell_type": "code",
   "execution_count": null,
   "metadata": {
    "id": "fzYuSJhQg4sD"
   },
   "outputs": [],
   "source": [
    "test_labels_word = [mapping_new[i] for i in test_labels]\n",
    "pred_word = [mapping_new[i] for i in pred.numpy()]"
   ]
  },
  {
   "cell_type": "code",
   "execution_count": null,
   "metadata": {
    "colab": {
     "base_uri": "https://localhost:8080/",
     "height": 580
    },
    "id": "1NOZn_6JgUEu",
    "outputId": "5b1348fa-13a2-4c57-b5d8-b06c176e0c05"
   },
   "outputs": [
    {
     "data": {
      "image/png": "[encoded data removed]",
      "text/plain": [
       "<Figure size 720x720 with 2 Axes>"
      ]
     },
     "metadata": {
      "needs_background": "light"
     },
     "output_type": "display_data"
    }
   ],
   "source": [
    "from helper_functions import make_confusion_matrix\n",
    "make_confusion_matrix(y_true = test_labels_word, y_pred = pred_word)"
   ]
  },
  {
   "cell_type": "code",
   "execution_count": null,
   "metadata": {
    "id": "h3OU19N8pg_f"
   },
   "outputs": [],
   "source": [
    "load_model_2_nnlm_dense.save('load_model_2_nnlm_dense.h5')"
   ]
  },
  {
   "cell_type": "code",
   "execution_count": null,
   "metadata": {
    "colab": {
     "base_uri": "https://localhost:8080/",
     "height": 424
    },
    "id": "25qgnWp_IOhm",
    "outputId": "0f0d8a68-2c71-4f79-b2c3-0f4707b59358"
   },
   "outputs": [
    {
     "data": {
      "text/html": [
       "<div>\n",
       "<style scoped>\n",
       "    .dataframe tbody tr th:only-of-type {\n",
       "        vertical-align: middle;\n",
       "    }\n",
       "\n",
       "    .dataframe tbody tr th {\n",
       "        vertical-align: top;\n",
       "    }\n",
       "\n",
       "    .dataframe thead th {\n",
       "        text-align: right;\n",
       "    }\n",
       "</style>\n",
       "<table border=\"1\" class=\"dataframe\">\n",
       "  <thead>\n",
       "    <tr style=\"text-align: right;\">\n",
       "      <th></th>\n",
       "      <th>text</th>\n",
       "      <th>target</th>\n",
       "      <th>pred</th>\n",
       "      <th>pred_prob</th>\n",
       "    </tr>\n",
       "  </thead>\n",
       "  <tbody>\n",
       "    <tr>\n",
       "      <th>0</th>\n",
       "      <td>im feeling rather rotten so im not very ambiti...</td>\n",
       "      <td>0</td>\n",
       "      <td>0</td>\n",
       "      <td>0.998182</td>\n",
       "    </tr>\n",
       "    <tr>\n",
       "      <th>1</th>\n",
       "      <td>im updating my blog because i feel shitty</td>\n",
       "      <td>0</td>\n",
       "      <td>0</td>\n",
       "      <td>0.999914</td>\n",
       "    </tr>\n",
       "    <tr>\n",
       "      <th>2</th>\n",
       "      <td>i never make her separate from me because i do...</td>\n",
       "      <td>0</td>\n",
       "      <td>0</td>\n",
       "      <td>0.975422</td>\n",
       "    </tr>\n",
       "    <tr>\n",
       "      <th>3</th>\n",
       "      <td>i left with my bouquet of red and yellow tulip...</td>\n",
       "      <td>5</td>\n",
       "      <td>5</td>\n",
       "      <td>0.998244</td>\n",
       "    </tr>\n",
       "    <tr>\n",
       "      <th>4</th>\n",
       "      <td>i was feeling a little vain when i did this one</td>\n",
       "      <td>0</td>\n",
       "      <td>0</td>\n",
       "      <td>0.996170</td>\n",
       "    </tr>\n",
       "    <tr>\n",
       "      <th>...</th>\n",
       "      <td>...</td>\n",
       "      <td>...</td>\n",
       "      <td>...</td>\n",
       "      <td>...</td>\n",
       "    </tr>\n",
       "    <tr>\n",
       "      <th>1995</th>\n",
       "      <td>i just keep feeling like someone is being unki...</td>\n",
       "      <td>1</td>\n",
       "      <td>1</td>\n",
       "      <td>0.654295</td>\n",
       "    </tr>\n",
       "    <tr>\n",
       "      <th>1996</th>\n",
       "      <td>im feeling a little cranky negative after this...</td>\n",
       "      <td>1</td>\n",
       "      <td>1</td>\n",
       "      <td>0.981502</td>\n",
       "    </tr>\n",
       "    <tr>\n",
       "      <th>1997</th>\n",
       "      <td>i feel that i am useful to my people and that ...</td>\n",
       "      <td>5</td>\n",
       "      <td>5</td>\n",
       "      <td>0.979670</td>\n",
       "    </tr>\n",
       "    <tr>\n",
       "      <th>1998</th>\n",
       "      <td>im feeling more comfortable with derby i feel ...</td>\n",
       "      <td>5</td>\n",
       "      <td>5</td>\n",
       "      <td>0.998843</td>\n",
       "    </tr>\n",
       "    <tr>\n",
       "      <th>1999</th>\n",
       "      <td>i feel all weird when i have to meet w people ...</td>\n",
       "      <td>4</td>\n",
       "      <td>4</td>\n",
       "      <td>0.700942</td>\n",
       "    </tr>\n",
       "  </tbody>\n",
       "</table>\n",
       "<p>2000 rows × 4 columns</p>\n",
       "</div>"
      ],
      "text/plain": [
       "                                                   text  ...  pred_prob\n",
       "0     im feeling rather rotten so im not very ambiti...  ...   0.998182\n",
       "1             im updating my blog because i feel shitty  ...   0.999914\n",
       "2     i never make her separate from me because i do...  ...   0.975422\n",
       "3     i left with my bouquet of red and yellow tulip...  ...   0.998244\n",
       "4       i was feeling a little vain when i did this one  ...   0.996170\n",
       "...                                                 ...  ...        ...\n",
       "1995  i just keep feeling like someone is being unki...  ...   0.654295\n",
       "1996  im feeling a little cranky negative after this...  ...   0.981502\n",
       "1997  i feel that i am useful to my people and that ...  ...   0.979670\n",
       "1998  im feeling more comfortable with derby i feel ...  ...   0.998843\n",
       "1999  i feel all weird when i have to meet w people ...  ...   0.700942\n",
       "\n",
       "[2000 rows x 4 columns]"
      ]
     },
     "execution_count": 73,
     "metadata": {},
     "output_type": "execute_result"
    }
   ],
   "source": [
    "test_df = pd.DataFrame({'text': test_sentences,\n",
    "                        'target': test_labels,\n",
    "                        'pred': pred,\n",
    "                        'pred_prob': pred_prob})\n",
    "test_df"
   ]
  },
  {
   "cell_type": "code",
   "execution_count": null,
   "metadata": {
    "colab": {
     "base_uri": "https://localhost:8080/",
     "height": 206
    },
    "id": "sZb4QYIOJtSV",
    "outputId": "fd1ee471-e65b-44d6-ddd9-23fb71682989"
   },
   "outputs": [
    {
     "data": {
      "text/html": [
       "<div>\n",
       "<style scoped>\n",
       "    .dataframe tbody tr th:only-of-type {\n",
       "        vertical-align: middle;\n",
       "    }\n",
       "\n",
       "    .dataframe tbody tr th {\n",
       "        vertical-align: top;\n",
       "    }\n",
       "\n",
       "    .dataframe thead th {\n",
       "        text-align: right;\n",
       "    }\n",
       "</style>\n",
       "<table border=\"1\" class=\"dataframe\">\n",
       "  <thead>\n",
       "    <tr style=\"text-align: right;\">\n",
       "      <th></th>\n",
       "      <th>text</th>\n",
       "      <th>target</th>\n",
       "      <th>pred</th>\n",
       "      <th>pred_prob</th>\n",
       "    </tr>\n",
       "  </thead>\n",
       "  <tbody>\n",
       "    <tr>\n",
       "      <th>229</th>\n",
       "      <td>i am truly unfortunate the majority of the tim...</td>\n",
       "      <td>4</td>\n",
       "      <td>0</td>\n",
       "      <td>0.999801</td>\n",
       "    </tr>\n",
       "    <tr>\n",
       "      <th>726</th>\n",
       "      <td>i lift different now because it hurt so bad th...</td>\n",
       "      <td>4</td>\n",
       "      <td>0</td>\n",
       "      <td>0.998878</td>\n",
       "    </tr>\n",
       "    <tr>\n",
       "      <th>249</th>\n",
       "      <td>i will practice meditation if i feel overwhelm...</td>\n",
       "      <td>3</td>\n",
       "      <td>5</td>\n",
       "      <td>0.998423</td>\n",
       "    </tr>\n",
       "    <tr>\n",
       "      <th>442</th>\n",
       "      <td>i had to continue to enforce my no playdate po...</td>\n",
       "      <td>1</td>\n",
       "      <td>0</td>\n",
       "      <td>0.997825</td>\n",
       "    </tr>\n",
       "    <tr>\n",
       "      <th>1698</th>\n",
       "      <td>i work well with almost every client ive ever ...</td>\n",
       "      <td>0</td>\n",
       "      <td>1</td>\n",
       "      <td>0.996303</td>\n",
       "    </tr>\n",
       "  </tbody>\n",
       "</table>\n",
       "</div>"
      ],
      "text/plain": [
       "                                                   text  ...  pred_prob\n",
       "229   i am truly unfortunate the majority of the tim...  ...   0.999801\n",
       "726   i lift different now because it hurt so bad th...  ...   0.998878\n",
       "249   i will practice meditation if i feel overwhelm...  ...   0.998423\n",
       "442   i had to continue to enforce my no playdate po...  ...   0.997825\n",
       "1698  i work well with almost every client ive ever ...  ...   0.996303\n",
       "\n",
       "[5 rows x 4 columns]"
      ]
     },
     "execution_count": 74,
     "metadata": {},
     "output_type": "execute_result"
    }
   ],
   "source": [
    "most_wrong = test_df[test_df['target'] != test_df['pred']].sort_values('pred_prob', ascending=False)\n",
    "most_wrong.head()"
   ]
  },
  {
   "cell_type": "code",
   "execution_count": null,
   "metadata": {
    "colab": {
     "base_uri": "https://localhost:8080/",
     "height": 206
    },
    "id": "2LZAJ8wIJ7Z9",
    "outputId": "4bd29167-6fcd-4b4b-c0c1-ae64a964eeac"
   },
   "outputs": [
    {
     "data": {
      "text/html": [
       "<div>\n",
       "<style scoped>\n",
       "    .dataframe tbody tr th:only-of-type {\n",
       "        vertical-align: middle;\n",
       "    }\n",
       "\n",
       "    .dataframe tbody tr th {\n",
       "        vertical-align: top;\n",
       "    }\n",
       "\n",
       "    .dataframe thead th {\n",
       "        text-align: right;\n",
       "    }\n",
       "</style>\n",
       "<table border=\"1\" class=\"dataframe\">\n",
       "  <thead>\n",
       "    <tr style=\"text-align: right;\">\n",
       "      <th></th>\n",
       "      <th>text</th>\n",
       "      <th>target</th>\n",
       "      <th>pred</th>\n",
       "      <th>pred_prob</th>\n",
       "    </tr>\n",
       "  </thead>\n",
       "  <tbody>\n",
       "    <tr>\n",
       "      <th>1889</th>\n",
       "      <td>i feel at leaving work is hot and complicated ...</td>\n",
       "      <td>2</td>\n",
       "      <td>3</td>\n",
       "      <td>0.345881</td>\n",
       "    </tr>\n",
       "    <tr>\n",
       "      <th>53</th>\n",
       "      <td>i can t stop the anxiety i feel when i m alone...</td>\n",
       "      <td>0</td>\n",
       "      <td>4</td>\n",
       "      <td>0.319894</td>\n",
       "    </tr>\n",
       "    <tr>\n",
       "      <th>1819</th>\n",
       "      <td>i feel so frustrated because i had a long week...</td>\n",
       "      <td>1</td>\n",
       "      <td>5</td>\n",
       "      <td>0.310349</td>\n",
       "    </tr>\n",
       "    <tr>\n",
       "      <th>756</th>\n",
       "      <td>getting sent on a company expense trip to anot...</td>\n",
       "      <td>5</td>\n",
       "      <td>1</td>\n",
       "      <td>0.299554</td>\n",
       "    </tr>\n",
       "    <tr>\n",
       "      <th>776</th>\n",
       "      <td>i cant help but think if id just shut up if id...</td>\n",
       "      <td>0</td>\n",
       "      <td>3</td>\n",
       "      <td>0.266082</td>\n",
       "    </tr>\n",
       "  </tbody>\n",
       "</table>\n",
       "</div>"
      ],
      "text/plain": [
       "                                                   text  ...  pred_prob\n",
       "1889  i feel at leaving work is hot and complicated ...  ...   0.345881\n",
       "53    i can t stop the anxiety i feel when i m alone...  ...   0.319894\n",
       "1819  i feel so frustrated because i had a long week...  ...   0.310349\n",
       "756   getting sent on a company expense trip to anot...  ...   0.299554\n",
       "776   i cant help but think if id just shut up if id...  ...   0.266082\n",
       "\n",
       "[5 rows x 4 columns]"
      ]
     },
     "execution_count": 75,
     "metadata": {},
     "output_type": "execute_result"
    }
   ],
   "source": [
    "most_wrong.tail()"
   ]
  },
  {
   "cell_type": "code",
   "execution_count": null,
   "metadata": {
    "colab": {
     "base_uri": "https://localhost:8080/"
    },
    "id": "yWlzLWsPKGFv",
    "outputId": "8549e315-609b-4753-9b5c-8e47554815ca"
   },
   "outputs": [
    {
     "data": {
      "text/plain": [
       "array(['sadness', 'anger', 'love', 'surprise', 'fear', 'joy'],\n",
       "      dtype=object)"
      ]
     },
     "execution_count": 77,
     "metadata": {},
     "output_type": "execute_result"
    }
   ],
   "source": [
    "class_names"
   ]
  },
  {
   "cell_type": "code",
   "execution_count": null,
   "metadata": {
    "colab": {
     "base_uri": "https://localhost:8080/",
     "height": 35
    },
    "id": "tiNtwfTXKMOE",
    "outputId": "bef7aab8-e64e-4738-81da-0c627de6b1c8"
   },
   "outputs": [
    {
     "data": {
      "application/vnd.google.colaboratory.intrinsic+json": {
       "type": "string"
      },
      "text/plain": [
       "'i will practice meditation if i feel overwhelmed and hopefully become successful in peaceful practice'"
      ]
     },
     "execution_count": 81,
     "metadata": {},
     "output_type": "execute_result"
    }
   ],
   "source": [
    "most_wrong.iloc[2]['text']"
   ]
  }
 ],
 "metadata": {
  "accelerator": "GPU",
  "colab": {
   "name": "emotions_nlp.ipynb",
   "provenance": [],
   "toc_visible": true
  },
  "kernelspec": {
   "display_name": "Python 3 (ipykernel)",
   "language": "python",
   "name": "python3"
  },
  "language_info": {
   "codemirror_mode": {
    "name": "ipython",
    "version": 3
   },
   "file_extension": ".py",
   "mimetype": "text/x-python",
   "name": "python",
   "nbconvert_exporter": "python",
   "pygments_lexer": "ipython3",
   "version": "3.8.12"
  }
 },
 "nbformat": 4,
 "nbformat_minor": 4
}
