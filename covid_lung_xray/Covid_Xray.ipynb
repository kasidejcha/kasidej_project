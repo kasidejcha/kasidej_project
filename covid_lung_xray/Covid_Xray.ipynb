{
 "cells": [
  {
   "cell_type": "code",
   "execution_count": 12,
   "metadata": {
    "colab": {
     "base_uri": "https://localhost:8080/"
    },
    "id": "KF1OWwFBvh8L",
    "outputId": "e1c1bbad-f738-428b-9587-3ad1845eec67"
   },
   "outputs": [
    {
     "name": "stdout",
     "output_type": "stream",
     "text": [
      "--2022-03-02 10:14:07--  https://raw.githubusercontent.com/mrdbourke/tensorflow-deep-learning/main/extras/helper_functions.py\n",
      "Resolving raw.githubusercontent.com (raw.githubusercontent.com)... 185.199.108.133, 185.199.109.133, 185.199.110.133, ...\n",
      "Connecting to raw.githubusercontent.com (raw.githubusercontent.com)|185.199.108.133|:443... connected.\n",
      "HTTP request sent, awaiting response... 200 OK\n",
      "Length: 10246 (10K) [text/plain]\n",
      "Saving to: ‘helper_functions.py.1’\n",
      "\n",
      "helper_functions.py 100%[===================>]  10.01K  --.-KB/s    in 0s      \n",
      "\n",
      "2022-03-02 10:14:07 (118 MB/s) - ‘helper_functions.py.1’ saved [10246/10246]\n",
      "\n"
     ]
    }
   ],
   "source": [
    "import tensorflow as tf\n",
    "from tensorflow.keras import layers\n",
    "!wget https://raw.githubusercontent.com/mrdbourke/tensorflow-deep-learning/main/extras/helper_functions.py"
   ]
  },
  {
   "cell_type": "markdown",
   "metadata": {
    "id": "ogLGe8x-wFjs"
   },
   "source": [
    "# Covid19 image classification"
   ]
  },
  {
   "cell_type": "code",
   "execution_count": 13,
   "metadata": {
    "colab": {
     "base_uri": "https://localhost:8080/"
    },
    "id": "QYU-Aqrs9NY0",
    "outputId": "d19f34ab-2daa-4656-9eb2-9fc3355cfd49"
   },
   "outputs": [
    {
     "name": "stdout",
     "output_type": "stream",
     "text": [
      "GPU 0: Tesla T4 (UUID: GPU-f5e3d62c-06d9-dbd2-6466-1dceef95645d)\n"
     ]
    }
   ],
   "source": [
    "!nvidia-smi -L"
   ]
  },
  {
   "cell_type": "code",
   "execution_count": 14,
   "metadata": {
    "colab": {
     "base_uri": "https://localhost:8080/"
    },
    "id": "SdLXL9e68Pbf",
    "outputId": "dc923b2c-145f-4ea0-d816-cd16c0a012fd"
   },
   "outputs": [
    {
     "name": "stdout",
     "output_type": "stream",
     "text": [
      "Archive:  /content/drive/MyDrive/Dataset/covid19_image_dataset/covid19_image_data.zip\n",
      "  inflating: Covid19-dataset/test/Covid/0100.jpeg  \n",
      "  inflating: Covid19-dataset/test/Covid/0102.jpeg  \n",
      "  inflating: Covid19-dataset/test/Covid/0105.png  \n",
      "  inflating: Covid19-dataset/test/Covid/0106.jpeg  \n",
      "  inflating: Covid19-dataset/test/Covid/0108.jpeg  \n",
      "  inflating: Covid19-dataset/test/Covid/0111.jpg  \n",
      "  inflating: Covid19-dataset/test/Covid/0112.jpg  \n",
      "  inflating: Covid19-dataset/test/Covid/0113.jpg  \n",
      "  inflating: Covid19-dataset/test/Covid/0115.jpeg  \n",
      "  inflating: Covid19-dataset/test/Covid/0118.jpeg  \n",
      "  inflating: Covid19-dataset/test/Covid/0119.jpeg  \n",
      "  inflating: Covid19-dataset/test/Covid/0120.jpg  \n",
      "  inflating: Covid19-dataset/test/Covid/094.png  \n",
      "  inflating: Covid19-dataset/test/Covid/096.png  \n",
      "  inflating: Covid19-dataset/test/Covid/098.jpeg  \n",
      "  inflating: Covid19-dataset/test/Covid/COVID-00003b.jpg  \n",
      "  inflating: Covid19-dataset/test/Covid/COVID-00012.jpg  \n",
      "  inflating: Covid19-dataset/test/Covid/COVID-00022.jpg  \n",
      "  inflating: Covid19-dataset/test/Covid/COVID-00033.jpg  \n",
      "  inflating: Covid19-dataset/test/Covid/COVID-00037.jpg  \n",
      "  inflating: Covid19-dataset/test/Covid/auntminnie-2020_01_31_20_24_2322_2020_01_31_x-ray_coronavirus_US.jpg  \n",
      "  inflating: Covid19-dataset/test/Covid/auntminnie-a-2020_01_28_23_51_6665_2020_01_28_Vietnam_coronavirus.jpeg  \n",
      "  inflating: Covid19-dataset/test/Covid/auntminnie-b-2020_01_28_23_51_6665_2020_01_28_Vietnam_coronavirus.jpeg  \n",
      "  inflating: Covid19-dataset/test/Covid/auntminnie-c-2020_01_28_23_51_6665_2020_01_28_Vietnam_coronavirus.jpeg  \n",
      "  inflating: Covid19-dataset/test/Covid/auntminnie-d-2020_01_28_23_51_6665_2020_01_28_Vietnam_coronavirus.jpeg  \n",
      "  inflating: Covid19-dataset/test/Covid/radiopaedia-2019-novel-coronavirus-infected-pneumonia.jpg  \n",
      "  inflating: Covid19-dataset/test/Normal/0101.jpeg  \n",
      "  inflating: Covid19-dataset/test/Normal/0102.jpeg  \n",
      "  inflating: Covid19-dataset/test/Normal/0103.jpeg  \n",
      "  inflating: Covid19-dataset/test/Normal/0105.jpeg  \n",
      "  inflating: Covid19-dataset/test/Normal/0106.jpeg  \n",
      "  inflating: Covid19-dataset/test/Normal/0107.jpeg  \n",
      "  inflating: Covid19-dataset/test/Normal/0108.jpeg  \n",
      "  inflating: Covid19-dataset/test/Normal/0109.jpeg  \n",
      "  inflating: Covid19-dataset/test/Normal/0110.jpeg  \n",
      "  inflating: Covid19-dataset/test/Normal/0111.jpeg  \n",
      "  inflating: Covid19-dataset/test/Normal/0112.jpeg  \n",
      "  inflating: Covid19-dataset/test/Normal/0114.jpeg  \n",
      "  inflating: Covid19-dataset/test/Normal/0115.jpeg  \n",
      "  inflating: Covid19-dataset/test/Normal/0116.jpeg  \n",
      "  inflating: Covid19-dataset/test/Normal/0117.jpeg  \n",
      "  inflating: Covid19-dataset/test/Normal/0118.jpeg  \n",
      "  inflating: Covid19-dataset/test/Normal/0119.jpeg  \n",
      "  inflating: Covid19-dataset/test/Normal/0120.jpeg  \n",
      "  inflating: Covid19-dataset/test/Normal/0121.jpeg  \n",
      "  inflating: Covid19-dataset/test/Normal/0122.jpeg  \n",
      "  inflating: Covid19-dataset/test/Viral Pneumonia/0101.jpeg  \n",
      "  inflating: Covid19-dataset/test/Viral Pneumonia/0102.jpeg  \n",
      "  inflating: Covid19-dataset/test/Viral Pneumonia/0103.jpeg  \n",
      "  inflating: Covid19-dataset/test/Viral Pneumonia/0104.jpeg  \n",
      "  inflating: Covid19-dataset/test/Viral Pneumonia/0105.jpeg  \n",
      "  inflating: Covid19-dataset/test/Viral Pneumonia/0106.jpeg  \n",
      "  inflating: Covid19-dataset/test/Viral Pneumonia/0107.jpeg  \n",
      "  inflating: Covid19-dataset/test/Viral Pneumonia/0108.jpeg  \n",
      "  inflating: Covid19-dataset/test/Viral Pneumonia/0109.jpeg  \n",
      "  inflating: Covid19-dataset/test/Viral Pneumonia/0110.jpeg  \n",
      "  inflating: Covid19-dataset/test/Viral Pneumonia/0111.jpeg  \n",
      "  inflating: Covid19-dataset/test/Viral Pneumonia/0112.jpeg  \n",
      "  inflating: Covid19-dataset/test/Viral Pneumonia/0113.jpeg  \n",
      "  inflating: Covid19-dataset/test/Viral Pneumonia/0114.jpeg  \n",
      "  inflating: Covid19-dataset/test/Viral Pneumonia/0115.jpeg  \n",
      "  inflating: Covid19-dataset/test/Viral Pneumonia/0116.jpeg  \n",
      "  inflating: Covid19-dataset/test/Viral Pneumonia/0117.jpeg  \n",
      "  inflating: Covid19-dataset/test/Viral Pneumonia/0118.jpeg  \n",
      "  inflating: Covid19-dataset/test/Viral Pneumonia/0119.jpeg  \n",
      "  inflating: Covid19-dataset/test/Viral Pneumonia/0120.jpeg  \n",
      "  inflating: Covid19-dataset/train/Covid/01.jpeg  \n",
      "  inflating: Covid19-dataset/train/Covid/010.png  \n",
      "  inflating: Covid19-dataset/train/Covid/012.jpeg  \n",
      "  inflating: Covid19-dataset/train/Covid/015.jpg  \n",
      "  inflating: Covid19-dataset/train/Covid/019.png  \n",
      "  inflating: Covid19-dataset/train/Covid/02.jpeg  \n",
      "  inflating: Covid19-dataset/train/Covid/020.jpg  \n",
      "  inflating: Covid19-dataset/train/Covid/021.jpeg  \n",
      "  inflating: Covid19-dataset/train/Covid/022.jpeg  \n",
      "  inflating: Covid19-dataset/train/Covid/024.jpeg  \n",
      "  inflating: Covid19-dataset/train/Covid/025.jpeg  \n",
      "  inflating: Covid19-dataset/train/Covid/026.jpeg  \n",
      "  inflating: Covid19-dataset/train/Covid/027.jpeg  \n",
      "  inflating: Covid19-dataset/train/Covid/03.jpeg  \n",
      "  inflating: Covid19-dataset/train/Covid/031.jpeg  \n",
      "  inflating: Covid19-dataset/train/Covid/032.jpeg  \n",
      "  inflating: Covid19-dataset/train/Covid/033.png  \n",
      "  inflating: Covid19-dataset/train/Covid/039.jpeg  \n",
      "  inflating: Covid19-dataset/train/Covid/04.png  \n",
      "  inflating: Covid19-dataset/train/Covid/040.jpeg  \n",
      "  inflating: Covid19-dataset/train/Covid/041.jpeg  \n",
      "  inflating: Covid19-dataset/train/Covid/042.jpeg  \n",
      "  inflating: Covid19-dataset/train/Covid/043.jpeg  \n",
      "  inflating: Covid19-dataset/train/Covid/044.jpeg  \n",
      "  inflating: Covid19-dataset/train/Covid/045.jpeg  \n",
      "  inflating: Covid19-dataset/train/Covid/046.jpeg  \n",
      "  inflating: Covid19-dataset/train/Covid/047.jpeg  \n",
      "  inflating: Covid19-dataset/train/Covid/048.jpeg  \n",
      "  inflating: Covid19-dataset/train/Covid/049.jpeg  \n",
      "  inflating: Covid19-dataset/train/Covid/050.jpeg  \n",
      "  inflating: Covid19-dataset/train/Covid/051.jpeg  \n",
      "  inflating: Covid19-dataset/train/Covid/052.jpeg  \n",
      "  inflating: Covid19-dataset/train/Covid/053.jpeg  \n",
      "  inflating: Covid19-dataset/train/Covid/054.jpeg  \n",
      "  inflating: Covid19-dataset/train/Covid/055.jpeg  \n",
      "  inflating: Covid19-dataset/train/Covid/056.jpg  \n",
      "  inflating: Covid19-dataset/train/Covid/057.jpeg  \n",
      "  inflating: Covid19-dataset/train/Covid/058.jpeg  \n",
      "  inflating: Covid19-dataset/train/Covid/059.jpeg  \n",
      "  inflating: Covid19-dataset/train/Covid/06.jpeg  \n",
      "  inflating: Covid19-dataset/train/Covid/060.jpeg  \n",
      "  inflating: Covid19-dataset/train/Covid/061.jpg  \n",
      "  inflating: Covid19-dataset/train/Covid/062.jpeg  \n",
      "  inflating: Covid19-dataset/train/Covid/064.jpg  \n",
      "  inflating: Covid19-dataset/train/Covid/065.jpeg  \n",
      "  inflating: Covid19-dataset/train/Covid/067.jpg  \n",
      "  inflating: Covid19-dataset/train/Covid/068.jpg  \n",
      "  inflating: Covid19-dataset/train/Covid/069.jpg  \n",
      "  inflating: Covid19-dataset/train/Covid/07.jpg  \n",
      "  inflating: Covid19-dataset/train/Covid/071.jpg  \n",
      "  inflating: Covid19-dataset/train/Covid/072.jpeg  \n",
      "  inflating: Covid19-dataset/train/Covid/073.jpg  \n",
      "  inflating: Covid19-dataset/train/Covid/074.jpg  \n",
      "  inflating: Covid19-dataset/train/Covid/076.jpg  \n",
      "  inflating: Covid19-dataset/train/Covid/078.jpeg  \n",
      "  inflating: Covid19-dataset/train/Covid/079.jpeg  \n",
      "  inflating: Covid19-dataset/train/Covid/08.jpeg  \n",
      "  inflating: Covid19-dataset/train/Covid/080.jpg  \n",
      "  inflating: Covid19-dataset/train/Covid/081.jpeg  \n",
      "  inflating: Covid19-dataset/train/Covid/082.jpg  \n",
      "  inflating: Covid19-dataset/train/Covid/083.jpeg  \n",
      "  inflating: Covid19-dataset/train/Covid/084.jpeg  \n",
      "  inflating: Covid19-dataset/train/Covid/085.jpeg  \n",
      "  inflating: Covid19-dataset/train/Covid/086.jpg  \n",
      "  inflating: Covid19-dataset/train/Covid/088.jpeg  \n",
      "  inflating: Covid19-dataset/train/Covid/089.jpg  \n",
      "  inflating: Covid19-dataset/train/Covid/09.png  \n",
      "  inflating: Covid19-dataset/train/Covid/090.jpeg  \n",
      "  inflating: Covid19-dataset/train/Covid/091.jpg  \n",
      "  inflating: Covid19-dataset/train/Covid/092.png  \n",
      "  inflating: Covid19-dataset/train/Covid/COVID-00001.jpg  \n",
      "  inflating: Covid19-dataset/train/Covid/COVID-00002.jpg  \n",
      "  inflating: Covid19-dataset/train/Covid/COVID-00003a.jpg  \n",
      "  inflating: Covid19-dataset/train/Covid/COVID-00003b.jpg  \n",
      "  inflating: Covid19-dataset/train/Covid/COVID-00004.jpg  \n",
      "  inflating: Covid19-dataset/train/Covid/COVID-00005.jpg  \n",
      "  inflating: Covid19-dataset/train/Covid/COVID-00006.jpg  \n",
      "  inflating: Covid19-dataset/train/Covid/COVID-00007.jpg  \n",
      "  inflating: Covid19-dataset/train/Covid/COVID-00008.jpg  \n",
      "  inflating: Covid19-dataset/train/Covid/COVID-00009.jpg  \n",
      "  inflating: Covid19-dataset/train/Covid/COVID-00010.jpg  \n",
      "  inflating: Covid19-dataset/train/Covid/COVID-00011.jpg  \n",
      "  inflating: Covid19-dataset/train/Covid/COVID-00012.jpg  \n",
      "  inflating: Covid19-dataset/train/Covid/COVID-00013a.jpg  \n",
      "  inflating: Covid19-dataset/train/Covid/COVID-00013b.jpg  \n",
      "  inflating: Covid19-dataset/train/Covid/COVID-00014.jpg  \n",
      "  inflating: Covid19-dataset/train/Covid/COVID-00015a.png  \n",
      "  inflating: Covid19-dataset/train/Covid/COVID-00015b.png  \n",
      "  inflating: Covid19-dataset/train/Covid/COVID-00016.jpg  \n",
      "  inflating: Covid19-dataset/train/Covid/COVID-00017.jpg  \n",
      "  inflating: Covid19-dataset/train/Covid/COVID-00018.jpg  \n",
      "  inflating: Covid19-dataset/train/Covid/COVID-00019.jpg  \n",
      "  inflating: Covid19-dataset/train/Covid/COVID-00020.jpg  \n",
      "  inflating: Covid19-dataset/train/Covid/COVID-00021.jpg  \n",
      "  inflating: Covid19-dataset/train/Covid/COVID-00022.jpg  \n",
      "  inflating: Covid19-dataset/train/Covid/COVID-00023.jpg  \n",
      "  inflating: Covid19-dataset/train/Covid/COVID-00024.jpg  \n",
      "  inflating: Covid19-dataset/train/Covid/COVID-00025.jpg  \n",
      "  inflating: Covid19-dataset/train/Covid/COVID-00026.jpg  \n",
      "  inflating: Covid19-dataset/train/Covid/COVID-00027.jpg  \n",
      "  inflating: Covid19-dataset/train/Covid/COVID-00028.jpg  \n",
      "  inflating: Covid19-dataset/train/Covid/COVID-00029.jpg  \n",
      "  inflating: Covid19-dataset/train/Covid/COVID-00030.jpg  \n",
      "  inflating: Covid19-dataset/train/Covid/COVID-00031.jpg  \n",
      "  inflating: Covid19-dataset/train/Covid/COVID-00032.jpg  \n",
      "  inflating: Covid19-dataset/train/Covid/COVID-00033.jpg  \n",
      "  inflating: Covid19-dataset/train/Covid/COVID-00034.jpg  \n",
      "  inflating: Covid19-dataset/train/Covid/COVID-00035.jpg  \n",
      "  inflating: Covid19-dataset/train/Covid/COVID-00036.jpg  \n",
      "  inflating: Covid19-dataset/train/Covid/COVID-00037.jpg  \n",
      "  inflating: Covid19-dataset/train/Covid/COVID-00038.jpg  \n",
      "  inflating: Covid19-dataset/train/Normal/01.jpeg  \n",
      "  inflating: Covid19-dataset/train/Normal/010.jpeg  \n",
      "  inflating: Covid19-dataset/train/Normal/011.jpeg  \n",
      "  inflating: Covid19-dataset/train/Normal/012.jpeg  \n",
      "  inflating: Covid19-dataset/train/Normal/013.jpeg  \n",
      "  inflating: Covid19-dataset/train/Normal/014.jpeg  \n",
      "  inflating: Covid19-dataset/train/Normal/015.jpeg  \n",
      "  inflating: Covid19-dataset/train/Normal/016.jpeg  \n",
      "  inflating: Covid19-dataset/train/Normal/017.jpeg  \n",
      "  inflating: Covid19-dataset/train/Normal/018.jpeg  \n",
      "  inflating: Covid19-dataset/train/Normal/019.jpeg  \n",
      "  inflating: Covid19-dataset/train/Normal/02.jpeg  \n",
      "  inflating: Covid19-dataset/train/Normal/020.jpeg  \n",
      "  inflating: Covid19-dataset/train/Normal/021.jpeg  \n",
      "  inflating: Covid19-dataset/train/Normal/022.jpeg  \n",
      "  inflating: Covid19-dataset/train/Normal/023.jpeg  \n",
      "  inflating: Covid19-dataset/train/Normal/024.jpeg  \n",
      "  inflating: Covid19-dataset/train/Normal/025.jpeg  \n",
      "  inflating: Covid19-dataset/train/Normal/03.jpeg  \n",
      "  inflating: Covid19-dataset/train/Normal/04.jpeg  \n",
      "  inflating: Covid19-dataset/train/Normal/05.jpeg  \n",
      "  inflating: Covid19-dataset/train/Normal/050.jpeg  \n",
      "  inflating: Covid19-dataset/train/Normal/051.jpeg  \n",
      "  inflating: Covid19-dataset/train/Normal/052.jpeg  \n",
      "  inflating: Covid19-dataset/train/Normal/053.jpeg  \n",
      "  inflating: Covid19-dataset/train/Normal/054.jpeg  \n",
      "  inflating: Covid19-dataset/train/Normal/055.jpeg  \n",
      "  inflating: Covid19-dataset/train/Normal/056.jpeg  \n",
      "  inflating: Covid19-dataset/train/Normal/057.jpeg  \n",
      "  inflating: Covid19-dataset/train/Normal/058.jpeg  \n",
      "  inflating: Covid19-dataset/train/Normal/059.jpeg  \n",
      "  inflating: Covid19-dataset/train/Normal/06.jpeg  \n",
      "  inflating: Covid19-dataset/train/Normal/060.jpeg  \n",
      "  inflating: Covid19-dataset/train/Normal/061.jpeg  \n",
      "  inflating: Covid19-dataset/train/Normal/062.jpeg  \n",
      "  inflating: Covid19-dataset/train/Normal/063.jpeg  \n",
      "  inflating: Covid19-dataset/train/Normal/064.jpeg  \n",
      "  inflating: Covid19-dataset/train/Normal/065.jpeg  \n",
      "  inflating: Covid19-dataset/train/Normal/066.jpeg  \n",
      "  inflating: Covid19-dataset/train/Normal/067.jpeg  \n",
      "  inflating: Covid19-dataset/train/Normal/068.jpeg  \n",
      "  inflating: Covid19-dataset/train/Normal/069.jpeg  \n",
      "  inflating: Covid19-dataset/train/Normal/07.jpeg  \n",
      "  inflating: Covid19-dataset/train/Normal/070.jpeg  \n",
      "  inflating: Covid19-dataset/train/Normal/071.jpeg  \n",
      "  inflating: Covid19-dataset/train/Normal/072.jpeg  \n",
      "  inflating: Covid19-dataset/train/Normal/073.jpeg  \n",
      "  inflating: Covid19-dataset/train/Normal/074.jpeg  \n",
      "  inflating: Covid19-dataset/train/Normal/075.jpeg  \n",
      "  inflating: Covid19-dataset/train/Normal/076.jpeg  \n",
      "  inflating: Covid19-dataset/train/Normal/077.jpeg  \n",
      "  inflating: Covid19-dataset/train/Normal/079.jpeg  \n",
      "  inflating: Covid19-dataset/train/Normal/08.jpeg  \n",
      "  inflating: Covid19-dataset/train/Normal/080.jpeg  \n",
      "  inflating: Covid19-dataset/train/Normal/081.jpeg  \n",
      "  inflating: Covid19-dataset/train/Normal/082.jpeg  \n",
      "  inflating: Covid19-dataset/train/Normal/083.jpeg  \n",
      "  inflating: Covid19-dataset/train/Normal/084.jpeg  \n",
      "  inflating: Covid19-dataset/train/Normal/085.jpeg  \n",
      "  inflating: Covid19-dataset/train/Normal/086.jpeg  \n",
      "  inflating: Covid19-dataset/train/Normal/087.jpeg  \n",
      "  inflating: Covid19-dataset/train/Normal/088.jpeg  \n",
      "  inflating: Covid19-dataset/train/Normal/09.jpeg  \n",
      "  inflating: Covid19-dataset/train/Normal/091.jpeg  \n",
      "  inflating: Covid19-dataset/train/Normal/092.jpeg  \n",
      "  inflating: Covid19-dataset/train/Normal/093.jpeg  \n",
      "  inflating: Covid19-dataset/train/Normal/094.jpeg  \n",
      "  inflating: Covid19-dataset/train/Normal/095.jpeg  \n",
      "  inflating: Covid19-dataset/train/Normal/096.jpeg  \n",
      "  inflating: Covid19-dataset/train/Normal/097.jpeg  \n",
      "  inflating: Covid19-dataset/train/Viral Pneumonia/01.jpeg  \n",
      "  inflating: Covid19-dataset/train/Viral Pneumonia/010.jpeg  \n",
      "  inflating: Covid19-dataset/train/Viral Pneumonia/011.jpeg  \n",
      "  inflating: Covid19-dataset/train/Viral Pneumonia/012.jpeg  \n",
      "  inflating: Covid19-dataset/train/Viral Pneumonia/013.jpeg  \n",
      "  inflating: Covid19-dataset/train/Viral Pneumonia/016.jpeg  \n",
      "  inflating: Covid19-dataset/train/Viral Pneumonia/018.jpeg  \n",
      "  inflating: Covid19-dataset/train/Viral Pneumonia/019.jpeg  \n",
      "  inflating: Covid19-dataset/train/Viral Pneumonia/02.jpeg  \n",
      "  inflating: Covid19-dataset/train/Viral Pneumonia/020.jpeg  \n",
      "  inflating: Covid19-dataset/train/Viral Pneumonia/021.jpeg  \n",
      "  inflating: Covid19-dataset/train/Viral Pneumonia/022.jpeg  \n",
      "  inflating: Covid19-dataset/train/Viral Pneumonia/023.jpeg  \n",
      "  inflating: Covid19-dataset/train/Viral Pneumonia/024.jpeg  \n",
      "  inflating: Covid19-dataset/train/Viral Pneumonia/025.jpeg  \n",
      "  inflating: Covid19-dataset/train/Viral Pneumonia/027.jpeg  \n",
      "  inflating: Covid19-dataset/train/Viral Pneumonia/03.jpeg  \n",
      "  inflating: Covid19-dataset/train/Viral Pneumonia/031.jpeg  \n",
      "  inflating: Covid19-dataset/train/Viral Pneumonia/032.jpeg  \n",
      "  inflating: Covid19-dataset/train/Viral Pneumonia/033.jpeg  \n",
      "  inflating: Covid19-dataset/train/Viral Pneumonia/034.jpeg  \n",
      "  inflating: Covid19-dataset/train/Viral Pneumonia/035.jpeg  \n",
      "  inflating: Covid19-dataset/train/Viral Pneumonia/036.jpeg  \n",
      "  inflating: Covid19-dataset/train/Viral Pneumonia/037.jpeg  \n",
      "  inflating: Covid19-dataset/train/Viral Pneumonia/038.jpeg  \n",
      "  inflating: Covid19-dataset/train/Viral Pneumonia/04.jpeg  \n",
      "  inflating: Covid19-dataset/train/Viral Pneumonia/041.jpeg  \n",
      "  inflating: Covid19-dataset/train/Viral Pneumonia/042.jpeg  \n",
      "  inflating: Covid19-dataset/train/Viral Pneumonia/043.jpeg  \n",
      "  inflating: Covid19-dataset/train/Viral Pneumonia/044.jpeg  \n",
      "  inflating: Covid19-dataset/train/Viral Pneumonia/045.jpeg  \n",
      "  inflating: Covid19-dataset/train/Viral Pneumonia/046.jpeg  \n",
      "  inflating: Covid19-dataset/train/Viral Pneumonia/047.jpeg  \n",
      "  inflating: Covid19-dataset/train/Viral Pneumonia/048.jpeg  \n",
      "  inflating: Covid19-dataset/train/Viral Pneumonia/05.jpeg  \n",
      "  inflating: Covid19-dataset/train/Viral Pneumonia/051.jpeg  \n",
      "  inflating: Covid19-dataset/train/Viral Pneumonia/052.jpeg  \n",
      "  inflating: Covid19-dataset/train/Viral Pneumonia/053.jpeg  \n",
      "  inflating: Covid19-dataset/train/Viral Pneumonia/054.jpeg  \n",
      "  inflating: Covid19-dataset/train/Viral Pneumonia/055.jpeg  \n",
      "  inflating: Covid19-dataset/train/Viral Pneumonia/056.jpeg  \n",
      "  inflating: Covid19-dataset/train/Viral Pneumonia/057.jpeg  \n",
      "  inflating: Covid19-dataset/train/Viral Pneumonia/058.jpeg  \n",
      "  inflating: Covid19-dataset/train/Viral Pneumonia/06.jpeg  \n",
      "  inflating: Covid19-dataset/train/Viral Pneumonia/061.jpeg  \n",
      "  inflating: Covid19-dataset/train/Viral Pneumonia/062.jpeg  \n",
      "  inflating: Covid19-dataset/train/Viral Pneumonia/063.jpeg  \n",
      "  inflating: Covid19-dataset/train/Viral Pneumonia/064.jpeg  \n",
      "  inflating: Covid19-dataset/train/Viral Pneumonia/065.jpeg  \n",
      "  inflating: Covid19-dataset/train/Viral Pneumonia/066.jpeg  \n",
      "  inflating: Covid19-dataset/train/Viral Pneumonia/067.jpeg  \n",
      "  inflating: Covid19-dataset/train/Viral Pneumonia/068.jpeg  \n",
      "  inflating: Covid19-dataset/train/Viral Pneumonia/07.jpeg  \n",
      "  inflating: Covid19-dataset/train/Viral Pneumonia/071.jpeg  \n",
      "  inflating: Covid19-dataset/train/Viral Pneumonia/072.jpeg  \n",
      "  inflating: Covid19-dataset/train/Viral Pneumonia/073.jpeg  \n",
      "  inflating: Covid19-dataset/train/Viral Pneumonia/074.jpeg  \n",
      "  inflating: Covid19-dataset/train/Viral Pneumonia/075.jpeg  \n",
      "  inflating: Covid19-dataset/train/Viral Pneumonia/076.jpeg  \n",
      "  inflating: Covid19-dataset/train/Viral Pneumonia/077.jpeg  \n",
      "  inflating: Covid19-dataset/train/Viral Pneumonia/078.jpeg  \n",
      "  inflating: Covid19-dataset/train/Viral Pneumonia/08.jpeg  \n",
      "  inflating: Covid19-dataset/train/Viral Pneumonia/081.jpeg  \n",
      "  inflating: Covid19-dataset/train/Viral Pneumonia/082.jpeg  \n",
      "  inflating: Covid19-dataset/train/Viral Pneumonia/083.jpeg  \n",
      "  inflating: Covid19-dataset/train/Viral Pneumonia/084.jpeg  \n",
      "  inflating: Covid19-dataset/train/Viral Pneumonia/09.jpeg  \n",
      "  inflating: Covid19-dataset/train/Viral Pneumonia/094.jpeg  \n",
      "  inflating: Covid19-dataset/train/Viral Pneumonia/095.jpeg  \n",
      "  inflating: Covid19-dataset/train/Viral Pneumonia/096.jpeg  \n"
     ]
    }
   ],
   "source": [
    "!unzip '/content/drive/MyDrive/Dataset/covid19_image_dataset/covid19_image_data.zip'"
   ]
  },
  {
   "cell_type": "code",
   "execution_count": 15,
   "metadata": {
    "colab": {
     "base_uri": "https://localhost:8080/"
    },
    "id": "DBr60z-R9xk9",
    "outputId": "94b2585d-de64-4b7d-ed99-1836faa55c3f"
   },
   "outputs": [
    {
     "name": "stdout",
     "output_type": "stream",
     "text": [
      "test  train\n"
     ]
    }
   ],
   "source": [
    "!ls Covid19-dataset"
   ]
  },
  {
   "cell_type": "code",
   "execution_count": 16,
   "metadata": {
    "colab": {
     "base_uri": "https://localhost:8080/"
    },
    "id": "G4VDveXW-X_9",
    "outputId": "2df6f95f-00b0-4692-a2cf-a2c859c12edb"
   },
   "outputs": [
    {
     "name": "stdout",
     "output_type": "stream",
     "text": [
      " Covid\t Normal  'Viral Pneumonia'\n"
     ]
    }
   ],
   "source": [
    "!ls Covid19-dataset/train"
   ]
  },
  {
   "cell_type": "code",
   "execution_count": 17,
   "metadata": {
    "colab": {
     "base_uri": "https://localhost:8080/"
    },
    "id": "z37o-vrU-aV5",
    "outputId": "631d136b-78ea-4b59-9fdd-3515cf7bda0c"
   },
   "outputs": [
    {
     "name": "stdout",
     "output_type": "stream",
     "text": [
      "010.png   045.jpeg  069.jpg   09.png\t\tCOVID-00020.jpg\n",
      "012.jpeg  046.jpeg  06.jpeg   COVID-00001.jpg\tCOVID-00021.jpg\n",
      "015.jpg   047.jpeg  071.jpg   COVID-00002.jpg\tCOVID-00022.jpg\n",
      "019.png   048.jpeg  072.jpeg  COVID-00003a.jpg\tCOVID-00023.jpg\n",
      "01.jpeg   049.jpeg  073.jpg   COVID-00003b.jpg\tCOVID-00024.jpg\n",
      "020.jpg   04.png    074.jpg   COVID-00004.jpg\tCOVID-00025.jpg\n",
      "021.jpeg  050.jpeg  076.jpg   COVID-00005.jpg\tCOVID-00026.jpg\n",
      "022.jpeg  051.jpeg  078.jpeg  COVID-00006.jpg\tCOVID-00027.jpg\n",
      "024.jpeg  052.jpeg  079.jpeg  COVID-00007.jpg\tCOVID-00028.jpg\n",
      "025.jpeg  053.jpeg  07.jpg    COVID-00008.jpg\tCOVID-00029.jpg\n",
      "026.jpeg  054.jpeg  080.jpg   COVID-00009.jpg\tCOVID-00030.jpg\n",
      "027.jpeg  055.jpeg  081.jpeg  COVID-00010.jpg\tCOVID-00031.jpg\n",
      "02.jpeg   056.jpg   082.jpg   COVID-00011.jpg\tCOVID-00032.jpg\n",
      "031.jpeg  057.jpeg  083.jpeg  COVID-00012.jpg\tCOVID-00033.jpg\n",
      "032.jpeg  058.jpeg  084.jpeg  COVID-00013a.jpg\tCOVID-00034.jpg\n",
      "033.png   059.jpeg  085.jpeg  COVID-00013b.jpg\tCOVID-00035.jpg\n",
      "039.jpeg  060.jpeg  086.jpg   COVID-00014.jpg\tCOVID-00036.jpg\n",
      "03.jpeg   061.jpg   088.jpeg  COVID-00015a.png\tCOVID-00037.jpg\n",
      "040.jpeg  062.jpeg  089.jpg   COVID-00015b.png\tCOVID-00038.jpg\n",
      "041.jpeg  064.jpg   08.jpeg   COVID-00016.jpg\n",
      "042.jpeg  065.jpeg  090.jpeg  COVID-00017.jpg\n",
      "043.jpeg  067.jpg   091.jpg   COVID-00018.jpg\n",
      "044.jpeg  068.jpg   092.png   COVID-00019.jpg\n"
     ]
    }
   ],
   "source": [
    "!ls Covid19-dataset/train/Covid"
   ]
  },
  {
   "cell_type": "code",
   "execution_count": 18,
   "metadata": {
    "colab": {
     "base_uri": "https://localhost:8080/"
    },
    "id": "gkVgKILg-dz5",
    "outputId": "4aa5a9eb-3794-485a-f2c1-cac2e864a00f"
   },
   "outputs": [
    {
     "name": "stdout",
     "output_type": "stream",
     "text": [
      "There are 2 directories and 0 images in 'Covid19-dataset/'.\n",
      "There are 3 directories and 0 images in 'Covid19-dataset/test'.\n",
      "There are 0 directories and 26 images in 'Covid19-dataset/test/Covid'.\n",
      "There are 0 directories and 20 images in 'Covid19-dataset/test/Viral Pneumonia'.\n",
      "There are 0 directories and 20 images in 'Covid19-dataset/test/Normal'.\n",
      "There are 3 directories and 0 images in 'Covid19-dataset/train'.\n",
      "There are 0 directories and 111 images in 'Covid19-dataset/train/Covid'.\n",
      "There are 0 directories and 70 images in 'Covid19-dataset/train/Viral Pneumonia'.\n",
      "There are 0 directories and 70 images in 'Covid19-dataset/train/Normal'.\n"
     ]
    }
   ],
   "source": [
    "import os\n",
    "\n",
    "# Walk through pizza_steak directory and list number pf files\n",
    "for dirpath, dirnames, filenames in os.walk(\"Covid19-dataset/\"):\n",
    "  print(f\"There are {len(dirnames)} directories and {len(filenames)} images in '{dirpath}'.\")"
   ]
  },
  {
   "cell_type": "code",
   "execution_count": 19,
   "metadata": {
    "colab": {
     "base_uri": "https://localhost:8080/"
    },
    "id": "OfqaJlXqHCie",
    "outputId": "d3cbb60a-aaa0-4d5f-c4b9-7243c605761a"
   },
   "outputs": [
    {
     "data": {
      "text/plain": [
       "(251, 66)"
      ]
     },
     "execution_count": 19,
     "metadata": {},
     "output_type": "execute_result"
    }
   ],
   "source": [
    "train_len = []\n",
    "for dirpath, dirnames, filenames in os.walk(\"Covid19-dataset/train/\"):\n",
    "  train_len.append(len(filenames))\n",
    "train_len = sum(train_len)\n",
    "\n",
    "test_len = []\n",
    "for dirpath, dirnames, filenames in os.walk(\"Covid19-dataset/test/\"):\n",
    "  test_len.append(len(filenames))\n",
    "test_len = sum(test_len)\n",
    "\n",
    "train_len, test_len"
   ]
  },
  {
   "cell_type": "code",
   "execution_count": 20,
   "metadata": {
    "colab": {
     "base_uri": "https://localhost:8080/"
    },
    "id": "Xkz8pOj8-sj7",
    "outputId": "7174ca3c-e46b-4e8d-b162-9a5cf3e8211b"
   },
   "outputs": [
    {
     "name": "stdout",
     "output_type": "stream",
     "text": [
      "['Covid', 'Normal', 'Viral Pneumonia']\n"
     ]
    }
   ],
   "source": [
    "import pathlib\n",
    "import numpy as np\n",
    "data_dir = pathlib.Path(\"Covid19-dataset/train\")\n",
    "class_names = np.array(sorted([item.name for item in data_dir.glob(\"*\")]))\n",
    "class_names = list(class_names)\n",
    "print(class_names)"
   ]
  },
  {
   "cell_type": "code",
   "execution_count": 21,
   "metadata": {
    "id": "qI8VZr1z-4KV"
   },
   "outputs": [],
   "source": [
    "import matplotlib.pyplot as plt\n",
    "import matplotlib.image as mpimg\n",
    "import random\n",
    "\n",
    "def view_random_image(target_dir, target_class):\n",
    "  # Setup the target directory(we'll view images from here)\n",
    "  target_folder = target_dir + target_class\n",
    "\n",
    "  # get a random image path\n",
    "  random_image = random.sample(os.listdir(target_folder), 1)\n",
    "  print(random_image)\n",
    "  \n",
    "  # Read in the image and plot it using matplotlib\n",
    "  img = mpimg.imread(target_folder + \"/\" + random_image[0])\n",
    "  plt.imshow(img)\n",
    "  plt.title(target_class)\n",
    "  plt.axis('off');\n",
    "\n",
    "  print(f\"Image shape: {img.shape}\") # show the shape of the image\n",
    "\n",
    "  return img"
   ]
  },
  {
   "cell_type": "code",
   "execution_count": 22,
   "metadata": {
    "colab": {
     "base_uri": "https://localhost:8080/",
     "height": 299
    },
    "id": "uE-UVni0_fIe",
    "outputId": "70dd5df6-6585-477c-a998-5da26eb8594b"
   },
   "outputs": [
    {
     "name": "stdout",
     "output_type": "stream",
     "text": [
      "['053.jpeg']\n",
      "Image shape: (1522, 1800, 3)\n"
     ]
    },
    {
     "data": {
      "image/png": "[encoded data removed]",
      "text/plain": [
       "<Figure size 432x288 with 1 Axes>"
      ]
     },
     "metadata": {
      "needs_background": "light"
     },
     "output_type": "display_data"
    }
   ],
   "source": [
    "img = view_random_image(target_dir=\"Covid19-dataset/train/\",\n",
    "                        target_class='Covid')"
   ]
  },
  {
   "cell_type": "code",
   "execution_count": 23,
   "metadata": {
    "colab": {
     "base_uri": "https://localhost:8080/"
    },
    "id": "6jLWFW7l_kC7",
    "outputId": "106be0f1-1eb6-44e7-84ec-4110b2add05f"
   },
   "outputs": [
    {
     "data": {
      "text/plain": [
       "(<tf.Tensor: shape=(), dtype=uint8, numpy=255>,\n",
       " <tf.Tensor: shape=(), dtype=uint8, numpy=0>)"
      ]
     },
     "execution_count": 23,
     "metadata": {},
     "output_type": "execute_result"
    }
   ],
   "source": [
    "tf.reduce_max(img), tf.reduce_min(img)"
   ]
  },
  {
   "cell_type": "markdown",
   "metadata": {
    "id": "La9F-9i8FRX7"
   },
   "source": [
    "## Preprocess & Train"
   ]
  },
  {
   "cell_type": "code",
   "execution_count": 24,
   "metadata": {
    "colab": {
     "base_uri": "https://localhost:8080/"
    },
    "id": "GET4n9E6_1jt",
    "outputId": "e7882ad3-c96a-4648-f3e2-3936821742e5"
   },
   "outputs": [
    {
     "name": "stdout",
     "output_type": "stream",
     "text": [
      "Found 251 images belonging to 3 classes.\n",
      "Found 66 images belonging to 3 classes.\n",
      "Epoch 1/10\n",
      "8/8 [==============================] - 21s 1s/step - loss: 0.9619 - accuracy: 0.6215 - val_loss: 0.7044 - val_accuracy: 0.8030\n",
      "Epoch 2/10\n",
      "8/8 [==============================] - 11s 1s/step - loss: 0.5027 - accuracy: 0.8327 - val_loss: 0.5836 - val_accuracy: 0.7576\n",
      "Epoch 3/10\n",
      "8/8 [==============================] - 10s 1s/step - loss: 0.3426 - accuracy: 0.8406 - val_loss: 0.4321 - val_accuracy: 0.7727\n",
      "Epoch 4/10\n",
      "8/8 [==============================] - 10s 1s/step - loss: 0.2094 - accuracy: 0.9124 - val_loss: 0.3731 - val_accuracy: 0.8030\n",
      "Epoch 5/10\n",
      "8/8 [==============================] - 11s 1s/step - loss: 0.1663 - accuracy: 0.9363 - val_loss: 0.3385 - val_accuracy: 0.8939\n",
      "Epoch 6/10\n",
      "8/8 [==============================] - 11s 1s/step - loss: 0.1404 - accuracy: 0.9442 - val_loss: 0.3158 - val_accuracy: 0.8788\n",
      "Epoch 7/10\n",
      "8/8 [==============================] - 10s 1s/step - loss: 0.1028 - accuracy: 0.9602 - val_loss: 0.2898 - val_accuracy: 0.8939\n",
      "Epoch 8/10\n",
      "8/8 [==============================] - 11s 1s/step - loss: 0.0890 - accuracy: 0.9681 - val_loss: 0.2375 - val_accuracy: 0.9091\n",
      "Epoch 9/10\n",
      "8/8 [==============================] - 10s 1s/step - loss: 0.0468 - accuracy: 0.9841 - val_loss: 0.2187 - val_accuracy: 0.9091\n",
      "Epoch 10/10\n",
      "8/8 [==============================] - 11s 1s/step - loss: 0.0355 - accuracy: 0.9920 - val_loss: 0.2119 - val_accuracy: 0.9242\n"
     ]
    }
   ],
   "source": [
    "import tensorflow as tf\n",
    "from tensorflow.keras.preprocessing.image import ImageDataGenerator\n",
    "\n",
    "tf.random.set_seed(42)\n",
    "\n",
    "# Preprocess data (get all pixel values between 0 & 1)\n",
    "train_datagen = ImageDataGenerator(rescale=1./255)\n",
    "valid_datagen = ImageDataGenerator(rescale=1./255)\n",
    "\n",
    "# Setup paths to our data directories\n",
    "train_dir = '/content/Covid19-dataset/train'\n",
    "test_dir = '/content/Covid19-dataset/test'\n",
    "\n",
    "# Import data from directories and turn it into batches\n",
    "train_data = train_datagen.flow_from_directory(train_dir, \n",
    "                                               batch_size=32,\n",
    "                                               target_size=(224,224),\n",
    "                                               class_mode=\"categorical\",\n",
    "                                               shuffle = True,\n",
    "                                               seed=42) # takes the path to a directory & generates bathes of augmented data\n",
    "valid_data = valid_datagen.flow_from_directory(test_dir,\n",
    "                                               batch_size=32,\n",
    "                                               target_size=(224,224),\n",
    "                                               class_mode='categorical',\n",
    "                                               shuffle=False,\n",
    "                                               seed=42)\n",
    "\n",
    "# Build a cnn model (same as Tiny VGG on the CNN explainer website)\n",
    "model_1 = tf.keras.models.Sequential([\n",
    "                                      tf.keras.layers.Conv2D(filters=10,\n",
    "                                                             kernel_size=3,\n",
    "                                                             activation='relu',\n",
    "                                                             input_shape=(224,224,3)),\n",
    "                                      tf.keras.layers.Conv2D(10, 3, activation='relu'),\n",
    "                                      tf.keras.layers.MaxPool2D(pool_size=2, padding='valid'),\n",
    "                                      tf.keras.layers.Conv2D(10, 3, activation='relu'),\n",
    "                                      tf.keras.layers.Conv2D(10, 3, activation='relu'),\n",
    "                                      tf.keras.layers.MaxPool2D(2),\n",
    "                                      tf.keras.layers.Flatten(),\n",
    "                                      tf.keras.layers.Dropout(0.2),\n",
    "                                      tf.keras.layers.Dense(32, activation='relu'),\n",
    "                                      tf.keras.layers.Dense(len(class_names), activation='softmax')\n",
    "])\n",
    "\n",
    "# Compile our cnn\n",
    "model_1.compile(loss=tf.keras.losses.categorical_crossentropy,\n",
    "                optimizer=tf.keras.optimizers.Adam(),\n",
    "                metrics=['accuracy'])\n",
    "\n",
    "history_1 = model_1.fit(train_data, \n",
    "                        epochs=10,\n",
    "                        validation_data=valid_data)"
   ]
  },
  {
   "cell_type": "code",
   "execution_count": 25,
   "metadata": {
    "colab": {
     "base_uri": "https://localhost:8080/"
    },
    "id": "1U97rNuyCC9c",
    "outputId": "d413a2ac-51a2-4016-d85a-66a44a414db1"
   },
   "outputs": [
    {
     "name": "stdout",
     "output_type": "stream",
     "text": [
      "3/3 [==============================] - 1s 392ms/step - loss: 0.2119 - accuracy: 0.9242\n"
     ]
    },
    {
     "data": {
      "text/plain": [
       "[0.21187609434127808, 0.9242424368858337]"
      ]
     },
     "execution_count": 25,
     "metadata": {},
     "output_type": "execute_result"
    }
   ],
   "source": [
    "model_1.evaluate(valid_data)"
   ]
  },
  {
   "cell_type": "code",
   "execution_count": 26,
   "metadata": {
    "colab": {
     "base_uri": "https://localhost:8080/"
    },
    "id": "ErycI5Or89If",
    "outputId": "cf493515-21d4-4b72-c3a3-66de3d10d561"
   },
   "outputs": [
    {
     "name": "stdout",
     "output_type": "stream",
     "text": [
      "INFO:tensorflow:Assets written to: model_1/assets\n"
     ]
    }
   ],
   "source": [
    "# model_1.save('model_1.h5')\n",
    "model_1.save('model_1')"
   ]
  },
  {
   "cell_type": "code",
   "execution_count": 27,
   "metadata": {
    "colab": {
     "base_uri": "https://localhost:8080/",
     "height": 573
    },
    "id": "9bPm8o1EFC-m",
    "outputId": "4e04f3c5-44a1-46ee-ba0e-95e9613c6314"
   },
   "outputs": [
    {
     "data": {
      "image/png": "[encoded data removed]",
      "text/plain": [
       "<Figure size 432x288 with 1 Axes>"
      ]
     },
     "metadata": {
      "needs_background": "light"
     },
     "output_type": "display_data"
    },
    {
     "data": {
      "image/png": "[encoded data removed]",
      "text/plain": [
       "<Figure size 432x288 with 1 Axes>"
      ]
     },
     "metadata": {
      "needs_background": "light"
     },
     "output_type": "display_data"
    }
   ],
   "source": [
    "from helper_functions import plot_loss_curves\n",
    "plot_loss_curves(history=history_1)"
   ]
  },
  {
   "cell_type": "markdown",
   "metadata": {
    "id": "cuHYc_gKFgeI"
   },
   "source": [
    "## Make predictions on validation set"
   ]
  },
  {
   "cell_type": "code",
   "execution_count": 28,
   "metadata": {
    "colab": {
     "base_uri": "https://localhost:8080/"
    },
    "id": "V2jL5r-2F-YO",
    "outputId": "ceee4e30-1d2a-4f83-e007-cc6307a6b204"
   },
   "outputs": [
    {
     "name": "stdout",
     "output_type": "stream",
     "text": [
      "3/3 [==============================] - 1s 400ms/step\n"
     ]
    }
   ],
   "source": [
    "pred_prob = model_1.predict(valid_data, verbose=1)"
   ]
  },
  {
   "cell_type": "code",
   "execution_count": 29,
   "metadata": {
    "colab": {
     "base_uri": "https://localhost:8080/"
    },
    "id": "gGIQYG8kLDLn",
    "outputId": "27b03faa-00ba-4c9c-d3cb-3641a4158196"
   },
   "outputs": [
    {
     "data": {
      "text/plain": [
       "array([[9.99986887e-01, 4.59281591e-06, 8.51621189e-06],\n",
       "       [1.00000000e+00, 7.96547966e-11, 6.78787204e-09],\n",
       "       [9.94789124e-01, 9.01042222e-06, 5.20190829e-03],\n",
       "       [9.99997973e-01, 3.36866557e-09, 2.04648427e-06],\n",
       "       [9.99996662e-01, 1.61923264e-09, 3.31958222e-06],\n",
       "       [9.99890208e-01, 3.09897478e-05, 7.87558747e-05],\n",
       "       [9.99977589e-01, 1.01820233e-05, 1.22417769e-05],\n",
       "       [9.99281108e-01, 2.51362871e-05, 6.93739683e-04],\n",
       "       [9.99982953e-01, 2.34806339e-06, 1.46655339e-05],\n",
       "       [2.69672632e-01, 6.87906206e-01, 4.24211882e-02],\n",
       "       [8.07102919e-01, 2.47756288e-05, 1.92872256e-01],\n",
       "       [9.99951363e-01, 2.59888693e-05, 2.26545162e-05],\n",
       "       [9.99959350e-01, 8.21032609e-06, 3.23912791e-05],\n",
       "       [9.82620180e-01, 3.47926980e-03, 1.39005464e-02],\n",
       "       [9.96187627e-01, 1.12033524e-06, 3.81127861e-03],\n",
       "       [9.99999523e-01, 6.75916212e-09, 4.79665403e-07],\n",
       "       [9.99997973e-01, 1.74871513e-08, 2.08126062e-06],\n",
       "       [9.99889016e-01, 3.51090457e-05, 7.58448659e-05],\n",
       "       [9.99675155e-01, 1.82485701e-06, 3.23092565e-04],\n",
       "       [9.99674201e-01, 1.85268755e-06, 3.23870918e-04],\n",
       "       [9.99977589e-01, 1.01820233e-05, 1.22417769e-05],\n",
       "       [9.99983191e-01, 6.73027367e-09, 1.67924391e-05],\n",
       "       [9.99999046e-01, 1.43050394e-09, 9.18145190e-07],\n",
       "       [9.99998569e-01, 2.96940450e-09, 1.44534829e-06],\n",
       "       [9.99978542e-01, 2.73865180e-06, 1.87176429e-05],\n",
       "       [9.83931243e-01, 9.74032935e-03, 6.32841652e-03],\n",
       "       [6.95338845e-03, 6.91825926e-01, 3.01220715e-01],\n",
       "       [3.17875150e-04, 9.98471677e-01, 1.21038931e-03],\n",
       "       [6.16753299e-04, 9.82426763e-01, 1.69564784e-02],\n",
       "       [2.52112607e-03, 9.77376997e-01, 2.01018546e-02],\n",
       "       [1.87551763e-04, 9.82043862e-01, 1.77686084e-02],\n",
       "       [8.21934722e-04, 3.22607607e-01, 6.76570475e-01],\n",
       "       [2.19638646e-03, 5.03234267e-01, 4.94569391e-01],\n",
       "       [8.55457736e-04, 6.29841805e-01, 3.69302779e-01],\n",
       "       [1.19699180e-04, 8.45263481e-01, 1.54616833e-01],\n",
       "       [5.14048326e-04, 1.64728854e-02, 9.83013093e-01],\n",
       "       [8.19003617e-04, 8.91810060e-01, 1.07370965e-01],\n",
       "       [3.03440582e-04, 7.02181518e-01, 2.97515035e-01],\n",
       "       [2.79480638e-03, 9.83844221e-01, 1.33609232e-02],\n",
       "       [3.49974394e-01, 5.60113847e-01, 8.99117813e-02],\n",
       "       [3.06880887e-04, 8.98932040e-01, 1.00761086e-01],\n",
       "       [2.69168348e-04, 7.94763029e-01, 2.04967737e-01],\n",
       "       [1.00955593e-04, 9.35475469e-01, 6.44236133e-02],\n",
       "       [6.51402734e-05, 9.95355844e-01, 4.57905978e-03],\n",
       "       [5.62584610e-04, 6.30685627e-01, 3.68751824e-01],\n",
       "       [1.24405324e-02, 9.56657350e-01, 3.09020821e-02],\n",
       "       [1.02293408e-02, 2.17474997e-02, 9.68023181e-01],\n",
       "       [4.79317643e-02, 3.09707969e-02, 9.21097517e-01],\n",
       "       [5.75404731e-04, 1.27499003e-03, 9.98149633e-01],\n",
       "       [2.03090608e-02, 9.14864335e-03, 9.70542312e-01],\n",
       "       [1.96127291e-03, 1.13053657e-02, 9.86733377e-01],\n",
       "       [1.44201010e-01, 1.06777152e-04, 8.55692267e-01],\n",
       "       [5.32839622e-04, 1.58214825e-03, 9.97885048e-01],\n",
       "       [1.08168935e-02, 1.78075384e-03, 9.87402380e-01],\n",
       "       [1.91662446e-01, 4.34953451e-01, 3.73384058e-01],\n",
       "       [2.06795754e-03, 3.23435437e-04, 9.97608542e-01],\n",
       "       [2.57450622e-04, 2.57299660e-04, 9.99485254e-01],\n",
       "       [1.57154095e-03, 3.25519679e-04, 9.98102903e-01],\n",
       "       [6.30423194e-03, 8.04522857e-02, 9.13243473e-01],\n",
       "       [3.27546062e-04, 4.07512821e-02, 9.58921194e-01],\n",
       "       [3.52732051e-04, 1.77747943e-02, 9.81872499e-01],\n",
       "       [7.49418080e-01, 3.49836424e-02, 2.15598330e-01],\n",
       "       [8.67966446e-04, 1.02149751e-02, 9.88917112e-01],\n",
       "       [1.18257455e-03, 1.46615148e-01, 8.52202296e-01],\n",
       "       [1.29162455e-02, 2.26005334e-02, 9.64483202e-01],\n",
       "       [2.23085913e-03, 2.12285668e-01, 7.85483420e-01]], dtype=float32)"
      ]
     },
     "execution_count": 29,
     "metadata": {},
     "output_type": "execute_result"
    }
   ],
   "source": [
    "pred_prob"
   ]
  },
  {
   "cell_type": "code",
   "execution_count": 30,
   "metadata": {
    "colab": {
     "base_uri": "https://localhost:8080/"
    },
    "id": "tKw79QbXGDr_",
    "outputId": "f233dc20-6104-424a-bba6-58da5b5f2698"
   },
   "outputs": [
    {
     "data": {
      "text/plain": [
       "(<tf.Tensor: shape=(66,), dtype=int64, numpy=\n",
       " array([0, 0, 0, 0, 0, 0, 0, 0, 0, 1, 0, 0, 0, 0, 0, 0, 0, 0, 0, 0, 0, 0,\n",
       "        0, 0, 0, 0, 1, 1, 1, 1, 1, 2, 1, 1, 1, 2, 1, 1, 1, 1, 1, 1, 1, 1,\n",
       "        1, 1, 2, 2, 2, 2, 2, 2, 2, 2, 1, 2, 2, 2, 2, 2, 2, 0, 2, 2, 2, 2])>,\n",
       " 66)"
      ]
     },
     "execution_count": 30,
     "metadata": {},
     "output_type": "execute_result"
    }
   ],
   "source": [
    "pred_classes = tf.argmax(pred_prob, axis=1)\n",
    "pred_classes, test_len"
   ]
  },
  {
   "cell_type": "code",
   "execution_count": 31,
   "metadata": {
    "colab": {
     "base_uri": "https://localhost:8080/"
    },
    "id": "-LfbszvFLl4B",
    "outputId": "95e43355-ac27-4585-ae60-bafd22442688"
   },
   "outputs": [
    {
     "data": {
      "text/plain": [
       "array([0, 0, 0, 0, 0, 0, 0, 0, 0, 0, 0, 0, 0, 0, 0, 0, 0, 0, 0, 0, 0, 0,\n",
       "       0, 0, 0, 0, 1, 1, 1, 1, 1, 1, 1, 1, 1, 1, 1, 1, 1, 1, 1, 1, 1, 1,\n",
       "       1, 1, 2, 2, 2, 2, 2, 2, 2, 2, 2, 2, 2, 2, 2, 2, 2, 2, 2, 2, 2, 2],\n",
       "      dtype=int32)"
      ]
     },
     "execution_count": 31,
     "metadata": {},
     "output_type": "execute_result"
    }
   ],
   "source": [
    "labels = valid_data.labels\n",
    "labels"
   ]
  },
  {
   "cell_type": "code",
   "execution_count": 33,
   "metadata": {
    "colab": {
     "base_uri": "https://localhost:8080/"
    },
    "id": "WGKMNt5-L6XI",
    "outputId": "e1f6f046-628f-453b-f51d-0ddd3ff90de8"
   },
   "outputs": [
    {
     "data": {
      "text/plain": [
       "{'accuracy': 92.42424242424242,\n",
       " 'f1': 0.9242424242424242,\n",
       " 'precision': 0.9242424242424242,\n",
       " 'recall': 0.9242424242424242}"
      ]
     },
     "execution_count": 33,
     "metadata": {},
     "output_type": "execute_result"
    }
   ],
   "source": [
    "from helper_functions import calculate_results\n",
    "calculate_results(y_true = labels,\n",
    "                  y_pred = pred_classes)"
   ]
  },
  {
   "cell_type": "code",
   "execution_count": 34,
   "metadata": {
    "colab": {
     "base_uri": "https://localhost:8080/",
     "height": 584
    },
    "id": "4amu7cRMM03w",
    "outputId": "42b42af0-78ac-44ea-fd7d-43e135d4a7be"
   },
   "outputs": [
    {
     "data": {
      "image/png": "[encoded data removed]",
      "text/plain": [
       "<Figure size 720x720 with 2 Axes>"
      ]
     },
     "metadata": {
      "needs_background": "light"
     },
     "output_type": "display_data"
    }
   ],
   "source": [
    "from helper_functions import make_confusion_matrix\n",
    "make_confusion_matrix(y_true = labels,\n",
    "                      y_pred = pred_classes,\n",
    "                      classes = class_names)"
   ]
  },
  {
   "cell_type": "code",
   "execution_count": 35,
   "metadata": {
    "colab": {
     "base_uri": "https://localhost:8080/"
    },
    "id": "SM3LM-vNThk-",
    "outputId": "47b9e824-b5e5-4608-a95a-f63a2720175b"
   },
   "outputs": [
    {
     "name": "stdout",
     "output_type": "stream",
     "text": [
      "              precision    recall  f1-score   support\n",
      "\n",
      "           0       0.96      0.96      0.96        26\n",
      "           1       0.90      0.90      0.90        20\n",
      "           2       0.90      0.90      0.90        20\n",
      "\n",
      "    accuracy                           0.92        66\n",
      "   macro avg       0.92      0.92      0.92        66\n",
      "weighted avg       0.92      0.92      0.92        66\n",
      "\n"
     ]
    }
   ],
   "source": [
    "from sklearn.metrics import classification_report\n",
    "print(classification_report(y_true = labels,\n",
    "                            y_pred = pred_classes))"
   ]
  },
  {
   "cell_type": "code",
   "execution_count": 36,
   "metadata": {
    "colab": {
     "base_uri": "https://localhost:8080/",
     "height": 143
    },
    "id": "cG67pmu4UvDz",
    "outputId": "3a397d4b-5d6b-4fec-cb7d-c32fd28167e9"
   },
   "outputs": [
    {
     "data": {
      "text/html": [
       "\n",
       "  <div id=\"df-b753b53b-d619-411d-9c18-7a83e6f1cc68\">\n",
       "    <div class=\"colab-df-container\">\n",
       "      <div>\n",
       "<style scoped>\n",
       "    .dataframe tbody tr th:only-of-type {\n",
       "        vertical-align: middle;\n",
       "    }\n",
       "\n",
       "    .dataframe tbody tr th {\n",
       "        vertical-align: top;\n",
       "    }\n",
       "\n",
       "    .dataframe thead th {\n",
       "        text-align: right;\n",
       "    }\n",
       "</style>\n",
       "<table border=\"1\" class=\"dataframe\">\n",
       "  <thead>\n",
       "    <tr style=\"text-align: right;\">\n",
       "      <th></th>\n",
       "      <th>class_name</th>\n",
       "      <th>f1-score</th>\n",
       "    </tr>\n",
       "  </thead>\n",
       "  <tbody>\n",
       "    <tr>\n",
       "      <th>0</th>\n",
       "      <td>Covid</td>\n",
       "      <td>0.961538</td>\n",
       "    </tr>\n",
       "    <tr>\n",
       "      <th>1</th>\n",
       "      <td>Normal</td>\n",
       "      <td>0.900000</td>\n",
       "    </tr>\n",
       "    <tr>\n",
       "      <th>2</th>\n",
       "      <td>Viral Pneumonia</td>\n",
       "      <td>0.900000</td>\n",
       "    </tr>\n",
       "  </tbody>\n",
       "</table>\n",
       "</div>\n",
       "      <button class=\"colab-df-convert\" onclick=\"convertToInteractive('df-b753b53b-d619-411d-9c18-7a83e6f1cc68')\"\n",
       "              title=\"Convert this dataframe to an interactive table.\"\n",
       "              style=\"display:none;\">\n",
       "        \n",
       "  <svg xmlns=\"http://www.w3.org/2000/svg\" height=\"24px\"viewBox=\"0 0 24 24\"\n",
       "       width=\"24px\">\n",
       "    <path d=\"M0 0h24v24H0V0z\" fill=\"none\"/>\n",
       "    <path d=\"M18.56 5.44l.94 2.06.94-2.06 2.06-.94-2.06-.94-.94-2.06-.94 2.06-2.06.94zm-11 1L8.5 8.5l.94-2.06 2.06-.94-2.06-.94L8.5 2.5l-.94 2.06-2.06.94zm10 10l.94 2.06.94-2.06 2.06-.94-2.06-.94-.94-2.06-.94 2.06-2.06.94z\"/><path d=\"M17.41 7.96l-1.37-1.37c-.4-.4-.92-.59-1.43-.59-.52 0-1.04.2-1.43.59L10.3 9.45l-7.72 7.72c-.78.78-.78 2.05 0 2.83L4 21.41c.39.39.9.59 1.41.59.51 0 1.02-.2 1.41-.59l7.78-7.78 2.81-2.81c.8-.78.8-2.07 0-2.86zM5.41 20L4 18.59l7.72-7.72 1.47 1.35L5.41 20z\"/>\n",
       "  </svg>\n",
       "      </button>\n",
       "      \n",
       "  <style>\n",
       "    .colab-df-container {\n",
       "      display:flex;\n",
       "      flex-wrap:wrap;\n",
       "      gap: 12px;\n",
       "    }\n",
       "\n",
       "    .colab-df-convert {\n",
       "      background-color: #E8F0FE;\n",
       "      border: none;\n",
       "      border-radius: 50%;\n",
       "      cursor: pointer;\n",
       "      display: none;\n",
       "      fill: #1967D2;\n",
       "      height: 32px;\n",
       "      padding: 0 0 0 0;\n",
       "      width: 32px;\n",
       "    }\n",
       "\n",
       "    .colab-df-convert:hover {\n",
       "      background-color: #E2EBFA;\n",
       "      box-shadow: 0px 1px 2px rgba(60, 64, 67, 0.3), 0px 1px 3px 1px rgba(60, 64, 67, 0.15);\n",
       "      fill: #174EA6;\n",
       "    }\n",
       "\n",
       "    [theme=dark] .colab-df-convert {\n",
       "      background-color: #3B4455;\n",
       "      fill: #D2E3FC;\n",
       "    }\n",
       "\n",
       "    [theme=dark] .colab-df-convert:hover {\n",
       "      background-color: #434B5C;\n",
       "      box-shadow: 0px 1px 3px 1px rgba(0, 0, 0, 0.15);\n",
       "      filter: drop-shadow(0px 1px 2px rgba(0, 0, 0, 0.3));\n",
       "      fill: #FFFFFF;\n",
       "    }\n",
       "  </style>\n",
       "\n",
       "      <script>\n",
       "        const buttonEl =\n",
       "          document.querySelector('#df-b753b53b-d619-411d-9c18-7a83e6f1cc68 button.colab-df-convert');\n",
       "        buttonEl.style.display =\n",
       "          google.colab.kernel.accessAllowed ? 'block' : 'none';\n",
       "\n",
       "        async function convertToInteractive(key) {\n",
       "          const element = document.querySelector('#df-b753b53b-d619-411d-9c18-7a83e6f1cc68');\n",
       "          const dataTable =\n",
       "            await google.colab.kernel.invokeFunction('convertToInteractive',\n",
       "                                                     [key], {});\n",
       "          if (!dataTable) return;\n",
       "\n",
       "          const docLinkHtml = 'Like what you see? Visit the ' +\n",
       "            '<a target=\"_blank\" href=https://colab.research.google.com/notebooks/data_table.ipynb>data table notebook</a>'\n",
       "            + ' to learn more about interactive tables.';\n",
       "          element.innerHTML = '';\n",
       "          dataTable['output_type'] = 'display_data';\n",
       "          await google.colab.output.renderOutput(dataTable, element);\n",
       "          const docLink = document.createElement('div');\n",
       "          docLink.innerHTML = docLinkHtml;\n",
       "          element.appendChild(docLink);\n",
       "        }\n",
       "      </script>\n",
       "    </div>\n",
       "  </div>\n",
       "  "
      ],
      "text/plain": [
       "        class_name  f1-score\n",
       "0            Covid  0.961538\n",
       "1           Normal  0.900000\n",
       "2  Viral Pneumonia  0.900000"
      ]
     },
     "execution_count": 36,
     "metadata": {},
     "output_type": "execute_result"
    }
   ],
   "source": [
    "# Get a dict of classification report\n",
    "classification_report_dict = classification_report(labels, pred_classes, output_dict=True)\n",
    "\n",
    "# Create empty dictionary\n",
    "class_f1_scores = {}\n",
    "# Loop through classification report dictionary items\n",
    "for k,v in classification_report_dict.items():\n",
    "  if k==\"accuracy\":\n",
    "    break;\n",
    "  else:\n",
    "    # Add class names and f1_scores to new dictionary\n",
    "    class_f1_scores[class_names[int(k)]] = v['f1-score']\n",
    "\n",
    "import pandas as pd\n",
    "f1_scores = pd.DataFrame({\"class_name\": list(class_f1_scores.keys()),\n",
    "                          \"f1-score\": list(class_f1_scores.values())}).sort_values(\"f1-score\", ascending=False)\n",
    "f1_scores"
   ]
  },
  {
   "cell_type": "code",
   "execution_count": 37,
   "metadata": {
    "id": "AGf5mW2HVADH"
   },
   "outputs": [],
   "source": [
    "import pandas as pd\n",
    "pred_df = pd.DataFrame({'y_true': labels,\n",
    "                        'y_pred': pred_classes,\n",
    "                        'pred_conf': pred_prob.max(axis=1),\n",
    "                        'y_true_classname': [class_names[i] for i in labels],\n",
    "                        'y_pred_classname': [class_names[i] for i in pred_classes]})\n",
    "pred_df['pred_correct'] = pred_df['y_true'] == pred_df['y_pred']"
   ]
  },
  {
   "cell_type": "code",
   "execution_count": 38,
   "metadata": {
    "colab": {
     "base_uri": "https://localhost:8080/",
     "height": 206
    },
    "id": "Nqspo-d8VIWq",
    "outputId": "e27d262a-2d14-44c7-f74d-6355f47b7fb1"
   },
   "outputs": [
    {
     "data": {
      "text/html": [
       "\n",
       "  <div id=\"df-b10f1e56-fc63-41da-beb9-555423a5be30\">\n",
       "    <div class=\"colab-df-container\">\n",
       "      <div>\n",
       "<style scoped>\n",
       "    .dataframe tbody tr th:only-of-type {\n",
       "        vertical-align: middle;\n",
       "    }\n",
       "\n",
       "    .dataframe tbody tr th {\n",
       "        vertical-align: top;\n",
       "    }\n",
       "\n",
       "    .dataframe thead th {\n",
       "        text-align: right;\n",
       "    }\n",
       "</style>\n",
       "<table border=\"1\" class=\"dataframe\">\n",
       "  <thead>\n",
       "    <tr style=\"text-align: right;\">\n",
       "      <th></th>\n",
       "      <th>y_true</th>\n",
       "      <th>y_pred</th>\n",
       "      <th>pred_conf</th>\n",
       "      <th>y_true_classname</th>\n",
       "      <th>y_pred_classname</th>\n",
       "      <th>pred_correct</th>\n",
       "    </tr>\n",
       "  </thead>\n",
       "  <tbody>\n",
       "    <tr>\n",
       "      <th>35</th>\n",
       "      <td>1</td>\n",
       "      <td>2</td>\n",
       "      <td>0.983013</td>\n",
       "      <td>Normal</td>\n",
       "      <td>Viral Pneumonia</td>\n",
       "      <td>False</td>\n",
       "    </tr>\n",
       "    <tr>\n",
       "      <th>61</th>\n",
       "      <td>2</td>\n",
       "      <td>0</td>\n",
       "      <td>0.749418</td>\n",
       "      <td>Viral Pneumonia</td>\n",
       "      <td>Covid</td>\n",
       "      <td>False</td>\n",
       "    </tr>\n",
       "    <tr>\n",
       "      <th>9</th>\n",
       "      <td>0</td>\n",
       "      <td>1</td>\n",
       "      <td>0.687906</td>\n",
       "      <td>Covid</td>\n",
       "      <td>Normal</td>\n",
       "      <td>False</td>\n",
       "    </tr>\n",
       "    <tr>\n",
       "      <th>31</th>\n",
       "      <td>1</td>\n",
       "      <td>2</td>\n",
       "      <td>0.676570</td>\n",
       "      <td>Normal</td>\n",
       "      <td>Viral Pneumonia</td>\n",
       "      <td>False</td>\n",
       "    </tr>\n",
       "    <tr>\n",
       "      <th>54</th>\n",
       "      <td>2</td>\n",
       "      <td>1</td>\n",
       "      <td>0.434953</td>\n",
       "      <td>Viral Pneumonia</td>\n",
       "      <td>Normal</td>\n",
       "      <td>False</td>\n",
       "    </tr>\n",
       "  </tbody>\n",
       "</table>\n",
       "</div>\n",
       "      <button class=\"colab-df-convert\" onclick=\"convertToInteractive('df-b10f1e56-fc63-41da-beb9-555423a5be30')\"\n",
       "              title=\"Convert this dataframe to an interactive table.\"\n",
       "              style=\"display:none;\">\n",
       "        \n",
       "  <svg xmlns=\"http://www.w3.org/2000/svg\" height=\"24px\"viewBox=\"0 0 24 24\"\n",
       "       width=\"24px\">\n",
       "    <path d=\"M0 0h24v24H0V0z\" fill=\"none\"/>\n",
       "    <path d=\"M18.56 5.44l.94 2.06.94-2.06 2.06-.94-2.06-.94-.94-2.06-.94 2.06-2.06.94zm-11 1L8.5 8.5l.94-2.06 2.06-.94-2.06-.94L8.5 2.5l-.94 2.06-2.06.94zm10 10l.94 2.06.94-2.06 2.06-.94-2.06-.94-.94-2.06-.94 2.06-2.06.94z\"/><path d=\"M17.41 7.96l-1.37-1.37c-.4-.4-.92-.59-1.43-.59-.52 0-1.04.2-1.43.59L10.3 9.45l-7.72 7.72c-.78.78-.78 2.05 0 2.83L4 21.41c.39.39.9.59 1.41.59.51 0 1.02-.2 1.41-.59l7.78-7.78 2.81-2.81c.8-.78.8-2.07 0-2.86zM5.41 20L4 18.59l7.72-7.72 1.47 1.35L5.41 20z\"/>\n",
       "  </svg>\n",
       "      </button>\n",
       "      \n",
       "  <style>\n",
       "    .colab-df-container {\n",
       "      display:flex;\n",
       "      flex-wrap:wrap;\n",
       "      gap: 12px;\n",
       "    }\n",
       "\n",
       "    .colab-df-convert {\n",
       "      background-color: #E8F0FE;\n",
       "      border: none;\n",
       "      border-radius: 50%;\n",
       "      cursor: pointer;\n",
       "      display: none;\n",
       "      fill: #1967D2;\n",
       "      height: 32px;\n",
       "      padding: 0 0 0 0;\n",
       "      width: 32px;\n",
       "    }\n",
       "\n",
       "    .colab-df-convert:hover {\n",
       "      background-color: #E2EBFA;\n",
       "      box-shadow: 0px 1px 2px rgba(60, 64, 67, 0.3), 0px 1px 3px 1px rgba(60, 64, 67, 0.15);\n",
       "      fill: #174EA6;\n",
       "    }\n",
       "\n",
       "    [theme=dark] .colab-df-convert {\n",
       "      background-color: #3B4455;\n",
       "      fill: #D2E3FC;\n",
       "    }\n",
       "\n",
       "    [theme=dark] .colab-df-convert:hover {\n",
       "      background-color: #434B5C;\n",
       "      box-shadow: 0px 1px 3px 1px rgba(0, 0, 0, 0.15);\n",
       "      filter: drop-shadow(0px 1px 2px rgba(0, 0, 0, 0.3));\n",
       "      fill: #FFFFFF;\n",
       "    }\n",
       "  </style>\n",
       "\n",
       "      <script>\n",
       "        const buttonEl =\n",
       "          document.querySelector('#df-b10f1e56-fc63-41da-beb9-555423a5be30 button.colab-df-convert');\n",
       "        buttonEl.style.display =\n",
       "          google.colab.kernel.accessAllowed ? 'block' : 'none';\n",
       "\n",
       "        async function convertToInteractive(key) {\n",
       "          const element = document.querySelector('#df-b10f1e56-fc63-41da-beb9-555423a5be30');\n",
       "          const dataTable =\n",
       "            await google.colab.kernel.invokeFunction('convertToInteractive',\n",
       "                                                     [key], {});\n",
       "          if (!dataTable) return;\n",
       "\n",
       "          const docLinkHtml = 'Like what you see? Visit the ' +\n",
       "            '<a target=\"_blank\" href=https://colab.research.google.com/notebooks/data_table.ipynb>data table notebook</a>'\n",
       "            + ' to learn more about interactive tables.';\n",
       "          element.innerHTML = '';\n",
       "          dataTable['output_type'] = 'display_data';\n",
       "          await google.colab.output.renderOutput(dataTable, element);\n",
       "          const docLink = document.createElement('div');\n",
       "          docLink.innerHTML = docLinkHtml;\n",
       "          element.appendChild(docLink);\n",
       "        }\n",
       "      </script>\n",
       "    </div>\n",
       "  </div>\n",
       "  "
      ],
      "text/plain": [
       "    y_true  y_pred  pred_conf y_true_classname y_pred_classname  pred_correct\n",
       "35       1       2   0.983013           Normal  Viral Pneumonia         False\n",
       "61       2       0   0.749418  Viral Pneumonia            Covid         False\n",
       "9        0       1   0.687906            Covid           Normal         False\n",
       "31       1       2   0.676570           Normal  Viral Pneumonia         False\n",
       "54       2       1   0.434953  Viral Pneumonia           Normal         False"
      ]
     },
     "execution_count": 38,
     "metadata": {},
     "output_type": "execute_result"
    }
   ],
   "source": [
    "top_100_wrong = pred_df[pred_df['pred_correct']==False].sort_values('pred_conf',ascending=False)\n",
    "top_100_wrong"
   ]
  },
  {
   "cell_type": "markdown",
   "metadata": {
    "id": "FsJvuu0bFyTH"
   },
   "source": [
    "## Make predictions on single image"
   ]
  },
  {
   "cell_type": "code",
   "execution_count": 43,
   "metadata": {
    "colab": {
     "base_uri": "https://localhost:8080/",
     "height": 286
    },
    "id": "gWetmIqrF887",
    "outputId": "f855d879-fba6-41f2-9dd5-07ef3fcc28a8"
   },
   "outputs": [
    {
     "name": "stdout",
     "output_type": "stream",
     "text": [
      "(1, 224, 224, 3)\n"
     ]
    },
    {
     "data": {
      "image/png": "[encoded data removed]",
      "text/plain": [
       "<Figure size 432x288 with 1 Axes>"
      ]
     },
     "metadata": {
      "needs_background": "light"
     },
     "output_type": "display_data"
    }
   ],
   "source": [
    "import tensorflow as tf\n",
    "import json, codecs\n",
    "import matplotlib.pyplot as plt\n",
    "\n",
    "filename = '0120.jpg'\n",
    "img_shape = 224\n",
    "\n",
    "# read the image\n",
    "img = tf.io.read_file(filename)\n",
    "\n",
    "# Decode the read file into a tensor\n",
    "img = tf.image.decode_image(img) # decode to array\n",
    "\n",
    "# resize the image\n",
    "img = tf.image.resize(img, size=[img_shape,img_shape])\n",
    "\n",
    "# turn to 1D\n",
    "# img = tf.image.rgb_to_grayscale(img)\n",
    "\n",
    "# rescale the image(get all value between 0 and 1)\n",
    "img = img/255.\n",
    "\n",
    "plt.imshow(img);\n",
    "\n",
    "img = tf.expand_dims(img, axis=0)\n",
    "\n",
    "print(img.shape)\n",
    "\n",
    "img = img.numpy().tolist()\n",
    "\n",
    "json.dump(img, codecs.open(\"0120.json\", \"w\", encoding = \"utf-8\"))"
   ]
  },
  {
   "cell_type": "code",
   "execution_count": 44,
   "metadata": {
    "colab": {
     "base_uri": "https://localhost:8080/"
    },
    "id": "npTOuxLeGh0z",
    "outputId": "4ff2f7f3-0181-4fed-c837-3208927e523e"
   },
   "outputs": [
    {
     "data": {
      "text/plain": [
       "(array([[9.9994767e-01, 3.0968866e-05, 2.1293725e-05]], dtype=float32),\n",
       " <tf.Tensor: shape=(1,), dtype=int64, numpy=array([0])>,\n",
       " 'Covid')"
      ]
     },
     "execution_count": 44,
     "metadata": {},
     "output_type": "execute_result"
    }
   ],
   "source": [
    "f = open('0120.json')\n",
    "image = json.load(f)\n",
    "single_pred_prob = model_1.predict(image)\n",
    "single_pred = tf.argmax(single_pred_prob, axis=1)\n",
    "single_pred_prob, single_pred, class_names[0]"
   ]
  },
  {
   "cell_type": "code",
   "execution_count": 42,
   "metadata": {
    "id": "yJHgNCI8IhwN"
   },
   "outputs": [],
   "source": []
  }
 ],
 "metadata": {
  "accelerator": "GPU",
  "colab": {
   "machine_shape": "hm",
   "name": "Covid_Xray.ipynb",
   "provenance": []
  },
  "kernelspec": {
   "display_name": "Python 3 (ipykernel)",
   "language": "python",
   "name": "python3"
  },
  "language_info": {
   "codemirror_mode": {
    "name": "ipython",
    "version": 3
   },
   "file_extension": ".py",
   "mimetype": "text/x-python",
   "name": "python",
   "nbconvert_exporter": "python",
   "pygments_lexer": "ipython3",
   "version": "3.8.12"
  }
 },
 "nbformat": 4,
 "nbformat_minor": 4
}
